{
 "cells": [
  {
   "cell_type": "code",
   "execution_count": null,
   "id": "a6cb60ba",
   "metadata": {},
   "outputs": [],
   "source": [
    "import os\n",
    "import urllib.parse\n",
    "\n",
    "import pandas as pd"
   ]
  },
  {
   "cell_type": "code",
   "execution_count": null,
   "id": "67cc271b",
   "metadata": {},
   "outputs": [],
   "source": [
    "suspects = pd.read_parquet('../../data/interim/suspects_unique.parquet')"
   ]
  },
  {
   "cell_type": "code",
   "execution_count": null,
   "id": "26827b2c",
   "metadata": {},
   "outputs": [],
   "source": [
    "suspects_acylcarnitines = suspects[suspects['CompoundName'].str.lower()\n",
    "                                   .str.contains('carnitine', regex=False)]"
   ]
  },
  {
   "cell_type": "code",
   "execution_count": null,
   "id": "c76ed480",
   "metadata": {},
   "outputs": [],
   "source": [
    "suspects_antibiotics = suspects[\n",
    "    suspects['CompoundName'].str.lower()\n",
    "    .str.contains('amoxicillin|azithromycin|nitrofurantoin')]"
   ]
  },
  {
   "cell_type": "code",
   "execution_count": null,
   "id": "c4f87a82",
   "metadata": {},
   "outputs": [],
   "source": [
    "suspects_apratoxin = suspects[suspects['CompoundName'].str.lower()\n",
    "                              .str.contains('apratoxin', regex=False)]"
   ]
  },
  {
   "cell_type": "code",
   "execution_count": null,
   "id": "7e0fde8d",
   "metadata": {},
   "outputs": [],
   "source": [
    "suspects_delta_saccharide = suspects[suspects['GroupDeltaMass'].between(162, 180)]"
   ]
  },
  {
   "cell_type": "code",
   "execution_count": null,
   "id": "ca4a5438",
   "metadata": {},
   "outputs": [],
   "source": [
    "def export(entries, filename):\n",
    "    compound_names = (\n",
    "        'Suspect related to ' + entries['CompoundName'] +\n",
    "        ' with delta m/z ' + entries['GroupDeltaMass'].round(3).astype(str) +\n",
    "        ' (putative explanation: ' + entries['Rationale'] +\n",
    "        '; atomic difference: ' + entries['AtomicDifference'] + ')')\n",
    "    with open(filename, 'w') as f_out:\n",
    "        f_out.write(f'# Suspect spectral library '\n",
    "                    f'{os.path.splitext(filename)[0]}\\n\\n')\n",
    "        for library_usi, suspect_usi, name in zip(\n",
    "                entries['LibraryUsi'], entries['SuspectUsi'], compound_names):\n",
    "            f_out.write(f'### [{suspect_usi}]'\n",
    "                        f'(https://metabolomics-usi.ucsd.edu/'\n",
    "                        f'dashinterface/?'\n",
    "                        f'usi1={urllib.parse.quote(library_usi)}&'\n",
    "                        f'usi2={urllib.parse.quote(suspect_usi)}&'\n",
    "                        f'max_intensity=150&cosine=shifted)\\n\\n')\n",
    "            f_out.write(f'{name}\\n\\n')\n",
    "            f_out.write(f'![](https://metabolomics-usi.ucsd.edu/png/mirror?'\n",
    "                        f'usi1={urllib.parse.quote(library_usi)}&'\n",
    "                        f'usi2={urllib.parse.quote(suspect_usi)}&'\n",
    "                        f'max_intensity=150&cosine=shifted'\n",
    "                        f'&annotate_peaks=[true%2Ctrue])\\n\\n')"
   ]
  },
  {
   "cell_type": "code",
   "execution_count": null,
   "id": "81ab47c0",
   "metadata": {},
   "outputs": [],
   "source": [
    "export(suspects_acylcarnitines, 'acylcarnitines.md')\n",
    "export(suspects_antibiotics, 'antibiotics.md')\n",
    "export(suspects_apratoxin, 'apratoxin.md')\n",
    "export(suspects_delta_saccharide, 'delta_saccharide.md')"
   ]
  }
 ],
 "metadata": {
  "kernelspec": {
   "display_name": "Python 3 (ipykernel)",
   "language": "python",
   "name": "python3"
  },
  "language_info": {
   "codemirror_mode": {
    "name": "ipython",
    "version": 3
   },
   "file_extension": ".py",
   "mimetype": "text/x-python",
   "name": "python",
   "nbconvert_exporter": "python",
   "pygments_lexer": "ipython3",
   "version": "3.8.6"
  }
 },
 "nbformat": 4,
 "nbformat_minor": 5
}
