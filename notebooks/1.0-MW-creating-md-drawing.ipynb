{
 "cells": [
  {
   "cell_type": "code",
   "execution_count": 3,
   "metadata": {},
   "outputs": [],
   "source": [
    "import pandas as pd\n",
    "import os\n",
    "from markdown import markdown"
   ]
  },
  {
   "cell_type": "code",
   "execution_count": 4,
   "metadata": {},
   "outputs": [],
   "source": [
    "df = pd.read_csv(\"suspects_5MSV.txt\", sep=\"\\t\")"
   ]
  },
  {
   "cell_type": "code",
   "execution_count": 5,
   "metadata": {},
   "outputs": [
    {
     "output_type": "execute_result",
     "data": {
      "text/plain": "   SuspectIndex  DeltaMZ    Cosine PutativeID  \\\n0           172 -14.0200  0.818500        CH2   \n1          1551 -15.9980  0.835552          O   \n2           386 -15.9900  0.831178          O   \n3           193 -28.0308  0.970810       C2H4   \n4        138096 -28.0360  0.945772       C2H4   \n\n                           Compound_Name  Adduct  Precursor_MZ  \\\n0                        C17-Sphinganine     M+H       288.291   \n1                            Beauvericin    M+Na       806.399   \n2                            Tyr-Pro-Phe     M+H       426.202   \n3                       Pseudopyronine B     M+H       295.228   \n4  Massbank:FIO00053 delta-Dodecalactone  [M+H]+       199.170   \n\n                                               INCHI          SpectrumID  \\\n0                                                     CCMSLIB00000579284   \n1  InChI=1S/C45H57N3O9/c1-28(2)37-40(49)46(7)35(2...  CCMSLIB00003416348   \n2  InChI=1S/C23H27N3O5/c24-18(13-16-8-10-17(27)11...  CCMSLIB00003729791   \n3                                                     CCMSLIB00000223956   \n4  1S/C12H22O2/c1-2-3-4-5-6-8-11-9-7-10-12(13)14-...  CCMSLIB00000213680   \n\n  LibraryQualityString  #Scan#  MZErrorPPM  SharedPeaks  \\\n0               Bronze     147     3.38742            7   \n1               Bronze    1520     1.66515            7   \n2               Bronze     410    18.04410            6   \n3               Bronze     238     9.61337            6   \n4               Bronze   43603     4.97977            7   \n\n                                             Suspect  cluster index  \\\n0           Suspect related to C17-Sphinganine - CH2          172.0   \n1                 Suspect related to Beauvericin - O         1551.0   \n2                 Suspect related to Tyr-Pro-Phe - O          386.0   \n3         Suspect related to Pseudopyronine B - C2H4          193.0   \n4  Suspect related to Massbank:FIO00053 delta-Dod...       138096.0   \n\n   ScanNumber                                      Original_Path  \\\n0        34.0  f.MSV000078547/spectrum/DLab/121207_proximicin...   \n1       139.0  f.MSV000078547/spectrum/DLab/121207_aby_J_DD_M...   \n2       132.0   f.MSV000078547/spectrum/DLab/fi1026d_FT-it.mzXML   \n3       162.0  f.MSV000078552/spectrum/Pseudomonas/Pseudomona...   \n4      2599.0  f.MSV000078556/spectrum/Human_Swabs/Woman/13m_...   \n\n   cluster index_library  ScanNumber_library  \\\n0                  147.0               302.0   \n1                 1520.0                29.0   \n2                  410.0                97.0   \n3                  238.0               530.0   \n4                43603.0              2270.0   \n\n                               Original_Path_library  \n0   f.MSV000078547/spectrum/DLab/fi1026d_FT-it.mzXML  \n1  f.MSV000078547/spectrum/DLab/121207_aby_J_DD_M...  \n2   f.MSV000078547/spectrum/DLab/fi1026c_FT-it.mzXML  \n3  f.MSV000078552/spectrum/Pseudomonas/Pseudomona...  \n4  f.MSV000078556/spectrum/Human_Swabs/Woman/m15_...  ",
      "text/html": "<div>\n<style scoped>\n    .dataframe tbody tr th:only-of-type {\n        vertical-align: middle;\n    }\n\n    .dataframe tbody tr th {\n        vertical-align: top;\n    }\n\n    .dataframe thead th {\n        text-align: right;\n    }\n</style>\n<table border=\"1\" class=\"dataframe\">\n  <thead>\n    <tr style=\"text-align: right;\">\n      <th></th>\n      <th>SuspectIndex</th>\n      <th>DeltaMZ</th>\n      <th>Cosine</th>\n      <th>PutativeID</th>\n      <th>Compound_Name</th>\n      <th>Adduct</th>\n      <th>Precursor_MZ</th>\n      <th>INCHI</th>\n      <th>SpectrumID</th>\n      <th>LibraryQualityString</th>\n      <th>#Scan#</th>\n      <th>MZErrorPPM</th>\n      <th>SharedPeaks</th>\n      <th>Suspect</th>\n      <th>cluster index</th>\n      <th>ScanNumber</th>\n      <th>Original_Path</th>\n      <th>cluster index_library</th>\n      <th>ScanNumber_library</th>\n      <th>Original_Path_library</th>\n    </tr>\n  </thead>\n  <tbody>\n    <tr>\n      <td>0</td>\n      <td>172</td>\n      <td>-14.0200</td>\n      <td>0.818500</td>\n      <td>CH2</td>\n      <td>C17-Sphinganine</td>\n      <td>M+H</td>\n      <td>288.291</td>\n      <td></td>\n      <td>CCMSLIB00000579284</td>\n      <td>Bronze</td>\n      <td>147</td>\n      <td>3.38742</td>\n      <td>7</td>\n      <td>Suspect related to C17-Sphinganine - CH2</td>\n      <td>172.0</td>\n      <td>34.0</td>\n      <td>f.MSV000078547/spectrum/DLab/121207_proximicin...</td>\n      <td>147.0</td>\n      <td>302.0</td>\n      <td>f.MSV000078547/spectrum/DLab/fi1026d_FT-it.mzXML</td>\n    </tr>\n    <tr>\n      <td>1</td>\n      <td>1551</td>\n      <td>-15.9980</td>\n      <td>0.835552</td>\n      <td>O</td>\n      <td>Beauvericin</td>\n      <td>M+Na</td>\n      <td>806.399</td>\n      <td>InChI=1S/C45H57N3O9/c1-28(2)37-40(49)46(7)35(2...</td>\n      <td>CCMSLIB00003416348</td>\n      <td>Bronze</td>\n      <td>1520</td>\n      <td>1.66515</td>\n      <td>7</td>\n      <td>Suspect related to Beauvericin - O</td>\n      <td>1551.0</td>\n      <td>139.0</td>\n      <td>f.MSV000078547/spectrum/DLab/121207_aby_J_DD_M...</td>\n      <td>1520.0</td>\n      <td>29.0</td>\n      <td>f.MSV000078547/spectrum/DLab/121207_aby_J_DD_M...</td>\n    </tr>\n    <tr>\n      <td>2</td>\n      <td>386</td>\n      <td>-15.9900</td>\n      <td>0.831178</td>\n      <td>O</td>\n      <td>Tyr-Pro-Phe</td>\n      <td>M+H</td>\n      <td>426.202</td>\n      <td>InChI=1S/C23H27N3O5/c24-18(13-16-8-10-17(27)11...</td>\n      <td>CCMSLIB00003729791</td>\n      <td>Bronze</td>\n      <td>410</td>\n      <td>18.04410</td>\n      <td>6</td>\n      <td>Suspect related to Tyr-Pro-Phe - O</td>\n      <td>386.0</td>\n      <td>132.0</td>\n      <td>f.MSV000078547/spectrum/DLab/fi1026d_FT-it.mzXML</td>\n      <td>410.0</td>\n      <td>97.0</td>\n      <td>f.MSV000078547/spectrum/DLab/fi1026c_FT-it.mzXML</td>\n    </tr>\n    <tr>\n      <td>3</td>\n      <td>193</td>\n      <td>-28.0308</td>\n      <td>0.970810</td>\n      <td>C2H4</td>\n      <td>Pseudopyronine B</td>\n      <td>M+H</td>\n      <td>295.228</td>\n      <td></td>\n      <td>CCMSLIB00000223956</td>\n      <td>Bronze</td>\n      <td>238</td>\n      <td>9.61337</td>\n      <td>6</td>\n      <td>Suspect related to Pseudopyronine B - C2H4</td>\n      <td>193.0</td>\n      <td>162.0</td>\n      <td>f.MSV000078552/spectrum/Pseudomonas/Pseudomona...</td>\n      <td>238.0</td>\n      <td>530.0</td>\n      <td>f.MSV000078552/spectrum/Pseudomonas/Pseudomona...</td>\n    </tr>\n    <tr>\n      <td>4</td>\n      <td>138096</td>\n      <td>-28.0360</td>\n      <td>0.945772</td>\n      <td>C2H4</td>\n      <td>Massbank:FIO00053 delta-Dodecalactone</td>\n      <td>[M+H]+</td>\n      <td>199.170</td>\n      <td>1S/C12H22O2/c1-2-3-4-5-6-8-11-9-7-10-12(13)14-...</td>\n      <td>CCMSLIB00000213680</td>\n      <td>Bronze</td>\n      <td>43603</td>\n      <td>4.97977</td>\n      <td>7</td>\n      <td>Suspect related to Massbank:FIO00053 delta-Dod...</td>\n      <td>138096.0</td>\n      <td>2599.0</td>\n      <td>f.MSV000078556/spectrum/Human_Swabs/Woman/13m_...</td>\n      <td>43603.0</td>\n      <td>2270.0</td>\n      <td>f.MSV000078556/spectrum/Human_Swabs/Woman/m15_...</td>\n    </tr>\n  </tbody>\n</table>\n</div>"
     },
     "metadata": {},
     "execution_count": 5
    }
   ],
   "source": [
    "df.head()"
   ]
  },
  {
   "cell_type": "code",
   "execution_count": 6,
   "metadata": {},
   "outputs": [],
   "source": [
    "df[\"dataset\"] = df[\"Original_Path\"].apply(lambda x: x[2:14])\n",
    "df[\"usi1\"] = df.apply(lambda x: \"mzspec:{}:{}:scan:{}\".format(x[\"dataset\"], os.path.basename(x[\"Original_Path\"]), x[\"ScanNumber\"]) , axis=1)\n",
    "df[\"usi2\"] = df.apply(lambda x: \"mzspec:GNPSLIBRARY:{}\".format(x[\"SpectrumID\"]) , axis=1)\n",
    "df[\"usi3\"] = df.apply(lambda x: \"mzspec:MSV000084314:{}.mgf:scan:{}\".format(x[\"dataset\"], x[\"#Scan#\"]) , axis=1)"
   ]
  },
  {
   "cell_type": "code",
   "execution_count": 7,
   "metadata": {},
   "outputs": [
    {
     "output_type": "error",
     "ename": "KeyError",
     "evalue": "'Suspect Name'",
     "traceback": [
      "\u001b[0;31m---------------------------------------------------------------------------\u001b[0m",
      "\u001b[0;31mKeyError\u001b[0m                                  Traceback (most recent call last)",
      "\u001b[0;32m<ipython-input-7-f8ff81a45712>\u001b[0m in \u001b[0;36m<module>\u001b[0;34m\u001b[0m\n\u001b[1;32m      8\u001b[0m     \u001b[0mmirror_url\u001b[0m \u001b[0;34m=\u001b[0m \u001b[0;34m\"https://metabolomics-usi.ucsd.edu/svg/mirror?usi1={}&usi2={}&mz_min=50&mz_max=500&max_intensity=150\"\u001b[0m\u001b[0;34m.\u001b[0m\u001b[0mformat\u001b[0m\u001b[0;34m(\u001b[0m\u001b[0mrecord\u001b[0m\u001b[0;34m[\u001b[0m\u001b[0;34m\"usi1\"\u001b[0m\u001b[0;34m]\u001b[0m\u001b[0;34m,\u001b[0m \u001b[0mrecord\u001b[0m\u001b[0;34m[\u001b[0m\u001b[0;34m\"usi2\"\u001b[0m\u001b[0;34m]\u001b[0m\u001b[0;34m)\u001b[0m\u001b[0;34m\u001b[0m\u001b[0;34m\u001b[0m\u001b[0m\n\u001b[1;32m      9\u001b[0m     \u001b[0mmirror_alt_url\u001b[0m \u001b[0;34m=\u001b[0m \u001b[0;34m\"https://metabolomics-usi.ucsd.edu/svg/mirror?usi1={}&usi2={}&mz_min=50&mz_max=500&max_intensity=150\"\u001b[0m\u001b[0;34m.\u001b[0m\u001b[0mformat\u001b[0m\u001b[0;34m(\u001b[0m\u001b[0mrecord\u001b[0m\u001b[0;34m[\u001b[0m\u001b[0;34m\"usi1\"\u001b[0m\u001b[0;34m]\u001b[0m\u001b[0;34m,\u001b[0m \u001b[0mrecord\u001b[0m\u001b[0;34m[\u001b[0m\u001b[0;34m\"usi3\"\u001b[0m\u001b[0;34m]\u001b[0m\u001b[0;34m)\u001b[0m\u001b[0;34m\u001b[0m\u001b[0;34m\u001b[0m\u001b[0m\n\u001b[0;32m---> 10\u001b[0;31m     \u001b[0moutput_list\u001b[0m\u001b[0;34m.\u001b[0m\u001b[0mappend\u001b[0m\u001b[0;34m(\u001b[0m\u001b[0;34m\"{} | ![]({}) | ![]({}) | ![]({})\"\u001b[0m\u001b[0;34m.\u001b[0m\u001b[0mformat\u001b[0m\u001b[0;34m(\u001b[0m\u001b[0mrecord\u001b[0m\u001b[0;34m[\u001b[0m\u001b[0;34m\"Suspect Name\"\u001b[0m\u001b[0;34m]\u001b[0m\u001b[0;34m,\u001b[0m \u001b[0mmirror_url\u001b[0m\u001b[0;34m,\u001b[0m \u001b[0mmirror_alt_url\u001b[0m\u001b[0;34m,\u001b[0m \u001b[0mspectrum_url\u001b[0m\u001b[0;34m)\u001b[0m\u001b[0;34m)\u001b[0m\u001b[0;34m\u001b[0m\u001b[0;34m\u001b[0m\u001b[0m\n\u001b[0m",
      "\u001b[0;31mKeyError\u001b[0m: 'Suspect Name'"
     ]
    }
   ],
   "source": [
    "# Writing Markdown File\n",
    "\n",
    "output_list = []\n",
    "output_list.append(\"Suspect | Mirror Library | Mirror Dataset Cluster |Image\")\n",
    "output_list.append(\"--- | --- | --- | ---\")\n",
    "for record in df.to_dict(orient=\"records\"):\n",
    "    spectrum_url = \"https://metabolomics-usi.ucsd.edu/svg/?usi={}&mz_min=50&mz_max=500)\".format(record[\"usi1\"])\n",
    "    mirror_url = \"https://metabolomics-usi.ucsd.edu/svg/mirror?usi1={}&usi2={}&mz_min=50&mz_max=500&max_intensity=150\".format(record[\"usi1\"], record[\"usi2\"])\n",
    "    mirror_alt_url = \"https://metabolomics-usi.ucsd.edu/svg/mirror?usi1={}&usi2={}&mz_min=50&mz_max=500&max_intensity=150\".format(record[\"usi1\"], record[\"usi3\"])\n",
    "    output_list.append(\"{} | ![]({}) | ![]({}) | ![]({})\".format(record[\"Suspect Name\"], mirror_url, mirror_alt_url, spectrum_url))"
   ]
  },
  {
   "cell_type": "code",
   "execution_count": 8,
   "metadata": {},
   "outputs": [
    {
     "output_type": "stream",
     "name": "stdout",
     "text": "Suspect | Mirror Library | Mirror Dataset Cluster |Image\n--- | --- | --- | ---\n"
    }
   ],
   "source": [
    "print(\"\\n\".join(output_list))\n",
    "\n",
    "with open(\"suspect_library_20200501.md\", \"w\") as outfile:\n",
    "    outfile.write(\"\\n\".join(output_list))\n",
    "\n",
    "with open(\"suspect_library_20200501.html\", \"w\") as outfile:\n",
    "    outfile.write(markdown(\"\\n\".join(output_list), extensions=['tables']))"
   ]
  },
  {
   "cell_type": "code",
   "execution_count": null,
   "metadata": {},
   "outputs": [],
   "source": []
  }
 ],
 "metadata": {
  "file_extension": ".py",
  "kernelspec": {
   "display_name": "Python 3",
   "language": "python",
   "name": "python3"
  },
  "language_info": {
   "codemirror_mode": {
    "name": "ipython",
    "version": 3
   },
   "file_extension": ".py",
   "mimetype": "text/x-python",
   "name": "python",
   "nbconvert_exporter": "python",
   "pygments_lexer": "ipython3",
   "version": "3.7.3-final"
  },
  "mimetype": "text/x-python",
  "name": "python",
  "npconvert_exporter": "python",
  "pygments_lexer": "ipython3",
  "version": 3
 },
 "nbformat": 4,
 "nbformat_minor": 4
}