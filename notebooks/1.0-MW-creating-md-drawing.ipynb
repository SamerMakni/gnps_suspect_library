{
 "cells": [
  {
   "cell_type": "code",
   "execution_count": 10,
   "metadata": {},
   "outputs": [],
   "source": [
    "import pandas as pd\n",
    "import os\n",
    "from markdown import markdown"
   ]
  },
  {
   "cell_type": "code",
   "execution_count": 11,
   "metadata": {},
   "outputs": [],
   "source": [
    "df = pd.read_csv(\"suspect_library_20200422.txt\", sep=\"\\t\")"
   ]
  },
  {
   "cell_type": "code",
   "execution_count": 12,
   "metadata": {},
   "outputs": [
    {
     "output_type": "execute_result",
     "data": {
      "text/plain": "   #Scan#  abs_DeltaMZ    Compound_Name  Precursor_MZ Adduct  \\\n0     147       14.020  C17-Sphinganine       288.291    M+H   \n1    1520       15.998      Beauvericin       806.399   M+Na   \n2     410       15.990      Tyr-Pro-Phe       426.202    M+H   \n\n  LibraryQualityString          SpectrumID  \\\n0               Bronze  CCMSLIB00000579284   \n1               Bronze  CCMSLIB00003416348   \n2               Bronze  CCMSLIB00003729791   \n\n                              Suspect Name  suspect_index  cluster index  \\\n0  Suspect related to C17-Sphinganine +CH2            172            172   \n1        Suspect related to Beauvericin +O           1551           1551   \n2        Suspect related to Tyr-Pro-Phe -O            386            386   \n\n                        AllFiles  sum(precursor intensity)    RTMean  \\\n0  inputspectra/spec-00017.mzXML                  473772.0   33.0267   \n1  inputspectra/spec-00024.mzXML                   65065.0  209.5440   \n2  inputspectra/spec-00004.mzXML                  116645.0  122.1890   \n\n   RTStdErr  parent mass  ScanNumber     ProteosafeFilePath  \\\n0         0      302.310          34  spec/spec-00017.mzXML   \n1         0      822.393         139  spec/spec-00024.mzXML   \n2         0      410.220         132  spec/spec-00004.mzXML   \n\n                                       Original_Path  \n0  f.MSV000078547/spectrum/DLab/121207_proximicin...  \n1  f.MSV000078547/spectrum/DLab/121207_aby_J_DD_M...  \n2   f.MSV000078547/spectrum/DLab/fi1026d_FT-it.mzXML  ",
      "text/html": "<div>\n<style scoped>\n    .dataframe tbody tr th:only-of-type {\n        vertical-align: middle;\n    }\n\n    .dataframe tbody tr th {\n        vertical-align: top;\n    }\n\n    .dataframe thead th {\n        text-align: right;\n    }\n</style>\n<table border=\"1\" class=\"dataframe\">\n  <thead>\n    <tr style=\"text-align: right;\">\n      <th></th>\n      <th>#Scan#</th>\n      <th>abs_DeltaMZ</th>\n      <th>Compound_Name</th>\n      <th>Precursor_MZ</th>\n      <th>Adduct</th>\n      <th>LibraryQualityString</th>\n      <th>SpectrumID</th>\n      <th>Suspect Name</th>\n      <th>suspect_index</th>\n      <th>cluster index</th>\n      <th>AllFiles</th>\n      <th>sum(precursor intensity)</th>\n      <th>RTMean</th>\n      <th>RTStdErr</th>\n      <th>parent mass</th>\n      <th>ScanNumber</th>\n      <th>ProteosafeFilePath</th>\n      <th>Original_Path</th>\n    </tr>\n  </thead>\n  <tbody>\n    <tr>\n      <td>0</td>\n      <td>147</td>\n      <td>14.020</td>\n      <td>C17-Sphinganine</td>\n      <td>288.291</td>\n      <td>M+H</td>\n      <td>Bronze</td>\n      <td>CCMSLIB00000579284</td>\n      <td>Suspect related to C17-Sphinganine +CH2</td>\n      <td>172</td>\n      <td>172</td>\n      <td>inputspectra/spec-00017.mzXML</td>\n      <td>473772.0</td>\n      <td>33.0267</td>\n      <td>0</td>\n      <td>302.310</td>\n      <td>34</td>\n      <td>spec/spec-00017.mzXML</td>\n      <td>f.MSV000078547/spectrum/DLab/121207_proximicin...</td>\n    </tr>\n    <tr>\n      <td>1</td>\n      <td>1520</td>\n      <td>15.998</td>\n      <td>Beauvericin</td>\n      <td>806.399</td>\n      <td>M+Na</td>\n      <td>Bronze</td>\n      <td>CCMSLIB00003416348</td>\n      <td>Suspect related to Beauvericin +O</td>\n      <td>1551</td>\n      <td>1551</td>\n      <td>inputspectra/spec-00024.mzXML</td>\n      <td>65065.0</td>\n      <td>209.5440</td>\n      <td>0</td>\n      <td>822.393</td>\n      <td>139</td>\n      <td>spec/spec-00024.mzXML</td>\n      <td>f.MSV000078547/spectrum/DLab/121207_aby_J_DD_M...</td>\n    </tr>\n    <tr>\n      <td>2</td>\n      <td>410</td>\n      <td>15.990</td>\n      <td>Tyr-Pro-Phe</td>\n      <td>426.202</td>\n      <td>M+H</td>\n      <td>Bronze</td>\n      <td>CCMSLIB00003729791</td>\n      <td>Suspect related to Tyr-Pro-Phe -O</td>\n      <td>386</td>\n      <td>386</td>\n      <td>inputspectra/spec-00004.mzXML</td>\n      <td>116645.0</td>\n      <td>122.1890</td>\n      <td>0</td>\n      <td>410.220</td>\n      <td>132</td>\n      <td>spec/spec-00004.mzXML</td>\n      <td>f.MSV000078547/spectrum/DLab/fi1026d_FT-it.mzXML</td>\n    </tr>\n  </tbody>\n</table>\n</div>"
     },
     "metadata": {},
     "execution_count": 12
    }
   ],
   "source": [
    "df.head()"
   ]
  },
  {
   "cell_type": "code",
   "execution_count": 13,
   "metadata": {},
   "outputs": [],
   "source": [
    "df[\"dataset\"] = df[\"Original_Path\"].apply(lambda x: x[2:14])\n",
    "df[\"usi1\"] = df.apply(lambda x: \"mzspec:{}:{}:scan:{}\".format(x[\"dataset\"], os.path.basename(x[\"Original_Path\"]), x[\"ScanNumber\"]) , axis=1)\n",
    "df[\"usi2\"] = df.apply(lambda x: \"mzspec:GNPSLIBRARY:{}\".format(x[\"SpectrumID\"]) , axis=1)\n",
    "df[\"usi3\"] = df.apply(lambda x: \"mzspec:MSV000084314:{}.mgf:scan:{}\".format(x[\"dataset\"], x[\"#Scan#\"]) , axis=1)"
   ]
  },
  {
   "cell_type": "code",
   "execution_count": 14,
   "metadata": {},
   "outputs": [],
   "source": [
    "# Writing Markdown File\n",
    "\n",
    "output_list = []\n",
    "output_list.append(\"Suspect | Mirror Library | Mirror Dataset Cluster |Image\")\n",
    "output_list.append(\"--- | --- | --- | ---\")\n",
    "for record in df.to_dict(orient=\"records\"):\n",
    "    spectrum_url = \"https://metabolomics-usi.ucsd.edu/svg/?usi={}&mz_min=50&mz_max=500)\".format(record[\"usi1\"])\n",
    "    mirror_url = \"https://metabolomics-usi.ucsd.edu/svg/mirror?usi1={}&usi2={}&mz_min=50&mz_max=500&max_intensity=150\".format(record[\"usi1\"], record[\"usi2\"])\n",
    "    mirror_alt_url = \"https://metabolomics-usi.ucsd.edu/svg/mirror?usi1={}&usi2={}&mz_min=50&mz_max=500&max_intensity=150\".format(record[\"usi1\"], record[\"usi3\"])\n",
    "    output_list.append(\"{} | ![]({}) | ![]({}) | ![]({})\".format(record[\"Suspect Name\"], mirror_url, mirror_alt_url, spectrum_url))"
   ]
  },
  {
   "cell_type": "code",
   "execution_count": 15,
   "metadata": {},
   "outputs": [
    {
     "output_type": "stream",
     "name": "stdout",
     "text": "Suspect | Mirror Library | Mirror Dataset Cluster |Image\n--- | --- | --- | ---\nSuspect related to C17-Sphinganine +CH2 | ![](https://metabolomics-usi.ucsd.edu/svg/mirror?usi1=mzspec:MSV000078547:121207_proximicin_B_DD_MS2.mzXML:scan:34&usi2=mzspec:GNPSLIBRARY:CCMSLIB00000579284&mz_min=50&mz_max=500&max_intensity=150) | ![](https://metabolomics-usi.ucsd.edu/svg/mirror?usi1=mzspec:MSV000078547:121207_proximicin_B_DD_MS2.mzXML:scan:34&usi2=mzspec:MSV000084314:MSV000078547.mgf:scan:147&mz_min=50&mz_max=500&max_intensity=150) | ![](https://metabolomics-usi.ucsd.edu/svg/?usi=mzspec:MSV000078547:121207_proximicin_B_DD_MS2.mzXML:scan:34&mz_min=50&mz_max=500))\nSuspect related to Beauvericin +O | ![](https://metabolomics-usi.ucsd.edu/svg/mirror?usi1=mzspec:MSV000078547:121207_aby_J_DD_MS2.mzXML:scan:139&usi2=mzspec:GNPSLIBRARY:CCMSLIB00003416348&mz_min=50&mz_max=500&max_intensity=150) | ![](https://metabolomics-usi.ucsd.edu/svg/mirror?usi1=mzspec:MSV000078547:121207_aby_J_DD_MS2.mzXML:scan:139&usi2=mzspec:MSV000084314:MSV000078547.mgf:scan:1520&mz_min=50&mz_max=500&max_intensity=150) | ![](https://metabolomics-usi.ucsd.edu/svg/?usi=mzspec:MSV000078547:121207_aby_J_DD_MS2.mzXML:scan:139&mz_min=50&mz_max=500))\nSuspect related to Tyr-Pro-Phe -O | ![](https://metabolomics-usi.ucsd.edu/svg/mirror?usi1=mzspec:MSV000078547:fi1026d_FT-it.mzXML:scan:132&usi2=mzspec:GNPSLIBRARY:CCMSLIB00003729791&mz_min=50&mz_max=500&max_intensity=150) | ![](https://metabolomics-usi.ucsd.edu/svg/mirror?usi1=mzspec:MSV000078547:fi1026d_FT-it.mzXML:scan:132&usi2=mzspec:MSV000084314:MSV000078547.mgf:scan:410&mz_min=50&mz_max=500&max_intensity=150) | ![](https://metabolomics-usi.ucsd.edu/svg/?usi=mzspec:MSV000078547:fi1026d_FT-it.mzXML:scan:132&mz_min=50&mz_max=500))\n"
    }
   ],
   "source": [
    "print(\"\\n\".join(output_list))\n",
    "\n",
    "with open(\"suspect_library_20200422.md\", \"w\") as outfile:\n",
    "    outfile.write(\"\\n\".join(output_list))\n",
    "\n",
    "with open(\"suspect_library_20200422.html\", \"w\") as outfile:\n",
    "    outfile.write(markdown(\"\\n\".join(output_list), extensions=['tables']))"
   ]
  },
  {
   "cell_type": "code",
   "execution_count": null,
   "metadata": {},
   "outputs": [],
   "source": []
  }
 ],
 "metadata": {
  "file_extension": ".py",
  "kernelspec": {
   "display_name": "Python 3",
   "language": "python",
   "name": "python3"
  },
  "language_info": {
   "codemirror_mode": {
    "name": "ipython",
    "version": 3
   },
   "file_extension": ".py",
   "mimetype": "text/x-python",
   "name": "python",
   "nbconvert_exporter": "python",
   "pygments_lexer": "ipython3",
   "version": "3.7.3-final"
  },
  "mimetype": "text/x-python",
  "name": "python",
  "npconvert_exporter": "python",
  "pygments_lexer": "ipython3",
  "version": 3
 },
 "nbformat": 4,
 "nbformat_minor": 4
}