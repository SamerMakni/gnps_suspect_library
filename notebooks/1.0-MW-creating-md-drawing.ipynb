{
 "cells": [
  {
   "cell_type": "code",
   "execution_count": null,
   "metadata": {},
   "outputs": [],
   "source": [
    "import os\n",
    "\n",
    "import pandas as pd\n",
    "from markdown import markdown"
   ]
  },
  {
   "cell_type": "code",
   "execution_count": null,
   "metadata": {},
   "outputs": [],
   "source": [
    "filename = '../../data/suspect_library_freq.csv'\n",
    "suspects = pd.read_csv(filename)"
   ]
  },
  {
   "cell_type": "code",
   "execution_count": null,
   "metadata": {},
   "outputs": [],
   "source": [
    "suspects['dataset'] = suspects['SuspectPath'].str.slice(2, 14)\n",
    "suspects['usi1'] = ('mzspec:' + suspects['dataset'] + ':' +\n",
    "                    suspects['SuspectPath'].apply(os.path.basename) +\n",
    "                    ':scan:' + suspects['SuspectScanNr'].astype(str))\n",
    "suspects['usi2'] = 'mzspec:GNPSLIBRARY:' + suspects['LibraryID']\n",
    "# TODO: New style USI.\n",
    "# suspects['usi2'] = ('mzdraft:GNPS:GNPS-LIBRARY:accession:' +\n",
    "#                     suspects['LibraryID'])\n",
    "suspects['usi3'] = ('mzspec:MSV000084314:' + suspects['dataset'] +\n",
    "                    '.mgf:scan:' + suspects['ClusterScanNr'].astype(str))"
   ]
  },
  {
   "cell_type": "code",
   "execution_count": null,
   "metadata": {},
   "outputs": [],
   "source": [
    "explanations = [\n",
    "    ' / '.join([f'{atomic_diffs} ({rationales})'\n",
    "                for atomic_diffs, rationales in zip(atomic_diffs.split('|'),\n",
    "                                                    rationales.split('|'))])\n",
    "    for atomic_diffs, rationales in zip(\n",
    "        suspects['AtomicDifference'].fillna('unknown'),\n",
    "        suspects['Rationale'].fillna('unknown'))]\n",
    "\n",
    "output_list = ['Suspect | Mirror Library | Mirror Dataset Cluster | Image',\n",
    "               '--- | --- | --- | ---']\n",
    "suspects_str = ('<ul><li><b>Suspect:</b> ' + suspects['CompoundName'] + ' ['\n",
    "                + suspects['Adduct'] + '] '\n",
    "                + suspects['DeltaMZ'].map('{:=+9.3f}'.format) + ' ['\n",
    "                + suspects['GroupDeltaMZ'].map('{:+.2f}'.format) + ']'\n",
    "                + '</li>' +\n",
    "                '<li><b>Library:</b> [' + suspects['LibraryID'] + ']'\n",
    "                '(https://gnps.ucsd.edu/ProteoSAFe/gnpslibraryspectrum.jsp?'\n",
    "                'SpectrumID=' + suspects['LibraryID'] + ')'\n",
    "                + '</li>'\n",
    "                + '<li><b>Putative explanation:</b> ' + explanations\n",
    "                + '</li></ul>')\n",
    "mirror_urls = ('https://metabolomics-usi.ucsd.edu/svg/mirror?usi1=' +\n",
    "               suspects['usi1'] + '&usi2=' + suspects['usi2'] +\n",
    "               '&mz_min=50&mz_max=500')\n",
    "mirror_alt_urls = ('https://metabolomics-usi.ucsd.edu/svg/mirror?usi1=' +\n",
    "                   suspects['usi1'] + '&usi2=' + suspects['usi3'] +\n",
    "                   '&mz_min=50&mz_max=500')\n",
    "spectrum_urls = ('https://metabolomics-usi.ucsd.edu/svg/?usi=' +\n",
    "                 suspects['usi1'] + '&mz_min=50&mz_max=500')\n",
    "for sus, url1, url2, url3 in zip(\n",
    "        suspects_str, mirror_urls, mirror_alt_urls, spectrum_urls):\n",
    "    output_list.append(f'{sus} | ![]({url1}) | ![]({url2}) | [View USI]({url3})')"
   ]
  },
  {
   "cell_type": "code",
   "execution_count": null,
   "metadata": {},
   "outputs": [],
   "source": [
    "with open(filename.replace('.csv', '.md'), 'w') as f_out:\n",
    "    f_out.write('\\n'.join(output_list))\n",
    "with open(filename.replace('.csv', '.html'), 'w') as f_out:\n",
    "    f_out.write(markdown('\\n'.join(output_list), extensions=['tables']))"
   ]
  }
 ],
 "metadata": {
  "file_extension": ".py",
  "kernelspec": {
   "display_name": "Python 3",
   "language": "python",
   "name": "python3"
  },
  "language_info": {
   "codemirror_mode": {
    "name": "ipython",
    "version": 3
   },
   "file_extension": ".py",
   "mimetype": "text/x-python",
   "name": "python",
   "nbconvert_exporter": "python",
   "pygments_lexer": "ipython3",
   "version": "3.7.3"
  },
  "mimetype": "text/x-python",
  "name": "python",
  "npconvert_exporter": "python",
  "pygments_lexer": "ipython3",
  "version": 3
 },
 "nbformat": 4,
 "nbformat_minor": 4
}
