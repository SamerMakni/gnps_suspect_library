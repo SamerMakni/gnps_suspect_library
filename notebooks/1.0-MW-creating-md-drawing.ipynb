{
 "cells": [
  {
   "cell_type": "code",
   "execution_count": null,
   "metadata": {},
   "outputs": [],
   "source": [
    "import os\n",
    "\n",
    "import pandas as pd\n",
    "from markdown import markdown"
   ]
  },
  {
   "cell_type": "code",
   "execution_count": null,
   "metadata": {},
   "outputs": [],
   "source": [
    "filename = 'suspect_library_5MSV_20200520.txt'\n",
    "suspects = pd.read_csv(filename, sep='\\t')"
   ]
  },
  {
   "cell_type": "code",
   "execution_count": null,
   "metadata": {},
   "outputs": [],
   "source": [
    "suspects['dataset'] = suspects['SuspectPath'].str.slice(2, 14)\n",
    "suspects['usi1'] = ('mzspec:' + suspects['dataset'] + ':' +\n",
    "                    suspects['SuspectPath'].apply(os.path.basename) +\n",
    "                    ':scan:' + suspects['SuspectScanNr'].astype(str))\n",
    "suspects['usi2'] = 'mzspec:GNPSLIBRARY:' + suspects['LibraryID']\n",
    "suspects['usi3'] = ('mzspec:MSV000084314:' + suspects['dataset'] +\n",
    "                    '.mgf:scan:' + suspects['ClusterScanNr'].astype(str))"
   ]
  },
  {
   "cell_type": "code",
   "execution_count": null,
   "metadata": {},
   "outputs": [],
   "source": [
    "output_list = ['Suspect | Mirror Library | Mirror Dataset Cluster | Image',\n",
    "               '--- | --- | --- | ---']\n",
    "suspects_str = (suspects['CompoundName'] + suspects['Mod'].map(\n",
    "    {'addition': ' + ', 'loss': ' - '}) + suspects['PutativeID'])\n",
    "mirror_urls = ('https://metabolomics-usi.ucsd.edu/svg/mirror?usi1=' +\n",
    "               suspects['usi1'] + '&usi2=' + suspects['usi2'] +\n",
    "               '&mz_min=50&mz_max=500')\n",
    "mirror_alt_urls = ('https://metabolomics-usi.ucsd.edu/svg/mirror?usi1=' +\n",
    "                   suspects['usi1'] + '&usi2=' + suspects['usi3'] +\n",
    "                   '&mz_min=50&mz_max=500')\n",
    "spectrum_urls = ('https://metabolomics-usi.ucsd.edu/svg/?usi=' +\n",
    "                 suspects['usi1'] + '&mz_min=50&mz_max=500')\n",
    "for sus, url1, url2, url3 in zip(\n",
    "        suspects_str, mirror_urls, mirror_alt_urls, spectrum_urls):\n",
    "    output_list.append(f'{sus} | ![]({url1}) | ![]({url2}) | [View USI]({url3})')"
   ]
  },
  {
   "cell_type": "code",
   "execution_count": null,
   "metadata": {},
   "outputs": [],
   "source": [
    "with open(filename.replace('.txt', '.md'), 'w') as f_out:\n",
    "    f_out.write('\\n'.join(output_list))\n",
    "with open(filename.replace('.txt', '.html'), 'w') as f_out:\n",
    "    f_out.write(markdown('\\n'.join(output_list), extensions=['tables']))"
   ]
  }
 ],
 "metadata": {
  "file_extension": ".py",
  "kernelspec": {
   "display_name": "Python 3",
   "language": "python",
   "name": "python3"
  },
  "language_info": {
   "codemirror_mode": {
    "name": "ipython",
    "version": 3
   },
   "file_extension": ".py",
   "mimetype": "text/x-python",
   "name": "python",
   "nbconvert_exporter": "python",
   "pygments_lexer": "ipython3",
   "version": "3.7.3"
  },
  "mimetype": "text/x-python",
  "name": "python",
  "npconvert_exporter": "python",
  "pygments_lexer": "ipython3",
  "version": 3
 },
 "nbformat": 4,
 "nbformat_minor": 4
}
