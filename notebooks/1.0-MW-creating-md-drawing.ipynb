{
 "cells": [
  {
   "cell_type": "code",
   "execution_count": 3,
   "metadata": {},
   "outputs": [],
   "source": [
    "import pandas as pd\n",
    "import os\n",
    "from markdown import markdown"
   ]
  },
  {
   "cell_type": "code",
   "execution_count": 4,
   "metadata": {},
   "outputs": [],
   "source": [
    "df = pd.read_csv(\"suspect_library.txt\", sep=\"\\t\")"
   ]
  },
  {
   "cell_type": "code",
   "execution_count": 6,
   "metadata": {},
   "outputs": [
    {
     "output_type": "execute_result",
     "data": {
      "text/plain": "                              Suspect Name  suspect_index  #Scan#  DeltaMZ  \\\n0  Suspect related to C17-Sphinganine +CH2            172     147   -14.02   \n1  Suspect related to C17-Sphinganine +CH2            172     147   -14.02   \n2  Suspect related to C17-Sphinganine +CH2            172     147   -14.02   \n3  Suspect related to C17-Sphinganine +CH2            172     147   -14.02   \n4  Suspect related to C17-Sphinganine +CH2            172     147   -14.02   \n\n     Compound_Name  Precursor_MZ Instrument Ion_Source   IonMode  \\\n0  C17-Sphinganine       288.291       qTof     LC-ESI  Positive   \n1  C17-Sphinganine       288.291       qTof     LC-ESI  Positive   \n2  C17-Sphinganine       288.291       qTof     LC-ESI  Positive   \n3  C17-Sphinganine       288.291       qTof     LC-ESI  Positive   \n4  C17-Sphinganine       288.291       qTof     LC-ESI  Positive   \n\n  Data_Collector  ...          PI cluster index  \\\n0          Quinn  ...  Dorrestein           172   \n1          Quinn  ...  Dorrestein           172   \n2          Quinn  ...  Dorrestein           172   \n3          Quinn  ...  Dorrestein           172   \n4          Quinn  ...  Dorrestein           172   \n\n                        AllFiles  sum(precursor intensity)    RTMean  \\\n0  inputspectra/spec-00012.mzXML                   85082.3  216.7520   \n1  inputspectra/spec-00012.mzXML                   88048.4  227.9790   \n2  inputspectra/spec-00016.mzXML                  119687.0   85.3721   \n3  inputspectra/spec-00016.mzXML                  105935.0   92.1508   \n4  inputspectra/spec-00016.mzXML                   33657.3  313.9400   \n\n   RTStdErr  parent mass  ScanNumber     ProteosafeFilePath  \\\n0         0      302.310         102  spec/spec-00012.mzXML   \n1         0      302.310         109  spec/spec-00012.mzXML   \n2         0      302.310          55  spec/spec-00016.mzXML   \n3         0      302.309          60  spec/spec-00016.mzXML   \n4         0      303.310         184  spec/spec-00016.mzXML   \n\n                                       Original_Path  \n0  f.MSV000078547/spectrum/DLab/121207_aby_B_DD_M...  \n1  f.MSV000078547/spectrum/DLab/121207_aby_B_DD_M...  \n2  f.MSV000078547/spectrum/DLab/121207_aby_D_DD_M...  \n3  f.MSV000078547/spectrum/DLab/121207_aby_D_DD_M...  \n4  f.MSV000078547/spectrum/DLab/121207_aby_D_DD_M...  \n\n[5 rows x 22 columns]",
      "text/html": "<div>\n<style scoped>\n    .dataframe tbody tr th:only-of-type {\n        vertical-align: middle;\n    }\n\n    .dataframe tbody tr th {\n        vertical-align: top;\n    }\n\n    .dataframe thead th {\n        text-align: right;\n    }\n</style>\n<table border=\"1\" class=\"dataframe\">\n  <thead>\n    <tr style=\"text-align: right;\">\n      <th></th>\n      <th>Suspect Name</th>\n      <th>suspect_index</th>\n      <th>#Scan#</th>\n      <th>DeltaMZ</th>\n      <th>Compound_Name</th>\n      <th>Precursor_MZ</th>\n      <th>Instrument</th>\n      <th>Ion_Source</th>\n      <th>IonMode</th>\n      <th>Data_Collector</th>\n      <th>...</th>\n      <th>PI</th>\n      <th>cluster index</th>\n      <th>AllFiles</th>\n      <th>sum(precursor intensity)</th>\n      <th>RTMean</th>\n      <th>RTStdErr</th>\n      <th>parent mass</th>\n      <th>ScanNumber</th>\n      <th>ProteosafeFilePath</th>\n      <th>Original_Path</th>\n    </tr>\n  </thead>\n  <tbody>\n    <tr>\n      <td>0</td>\n      <td>Suspect related to C17-Sphinganine +CH2</td>\n      <td>172</td>\n      <td>147</td>\n      <td>-14.02</td>\n      <td>C17-Sphinganine</td>\n      <td>288.291</td>\n      <td>qTof</td>\n      <td>LC-ESI</td>\n      <td>Positive</td>\n      <td>Quinn</td>\n      <td>...</td>\n      <td>Dorrestein</td>\n      <td>172</td>\n      <td>inputspectra/spec-00012.mzXML</td>\n      <td>85082.3</td>\n      <td>216.7520</td>\n      <td>0</td>\n      <td>302.310</td>\n      <td>102</td>\n      <td>spec/spec-00012.mzXML</td>\n      <td>f.MSV000078547/spectrum/DLab/121207_aby_B_DD_M...</td>\n    </tr>\n    <tr>\n      <td>1</td>\n      <td>Suspect related to C17-Sphinganine +CH2</td>\n      <td>172</td>\n      <td>147</td>\n      <td>-14.02</td>\n      <td>C17-Sphinganine</td>\n      <td>288.291</td>\n      <td>qTof</td>\n      <td>LC-ESI</td>\n      <td>Positive</td>\n      <td>Quinn</td>\n      <td>...</td>\n      <td>Dorrestein</td>\n      <td>172</td>\n      <td>inputspectra/spec-00012.mzXML</td>\n      <td>88048.4</td>\n      <td>227.9790</td>\n      <td>0</td>\n      <td>302.310</td>\n      <td>109</td>\n      <td>spec/spec-00012.mzXML</td>\n      <td>f.MSV000078547/spectrum/DLab/121207_aby_B_DD_M...</td>\n    </tr>\n    <tr>\n      <td>2</td>\n      <td>Suspect related to C17-Sphinganine +CH2</td>\n      <td>172</td>\n      <td>147</td>\n      <td>-14.02</td>\n      <td>C17-Sphinganine</td>\n      <td>288.291</td>\n      <td>qTof</td>\n      <td>LC-ESI</td>\n      <td>Positive</td>\n      <td>Quinn</td>\n      <td>...</td>\n      <td>Dorrestein</td>\n      <td>172</td>\n      <td>inputspectra/spec-00016.mzXML</td>\n      <td>119687.0</td>\n      <td>85.3721</td>\n      <td>0</td>\n      <td>302.310</td>\n      <td>55</td>\n      <td>spec/spec-00016.mzXML</td>\n      <td>f.MSV000078547/spectrum/DLab/121207_aby_D_DD_M...</td>\n    </tr>\n    <tr>\n      <td>3</td>\n      <td>Suspect related to C17-Sphinganine +CH2</td>\n      <td>172</td>\n      <td>147</td>\n      <td>-14.02</td>\n      <td>C17-Sphinganine</td>\n      <td>288.291</td>\n      <td>qTof</td>\n      <td>LC-ESI</td>\n      <td>Positive</td>\n      <td>Quinn</td>\n      <td>...</td>\n      <td>Dorrestein</td>\n      <td>172</td>\n      <td>inputspectra/spec-00016.mzXML</td>\n      <td>105935.0</td>\n      <td>92.1508</td>\n      <td>0</td>\n      <td>302.309</td>\n      <td>60</td>\n      <td>spec/spec-00016.mzXML</td>\n      <td>f.MSV000078547/spectrum/DLab/121207_aby_D_DD_M...</td>\n    </tr>\n    <tr>\n      <td>4</td>\n      <td>Suspect related to C17-Sphinganine +CH2</td>\n      <td>172</td>\n      <td>147</td>\n      <td>-14.02</td>\n      <td>C17-Sphinganine</td>\n      <td>288.291</td>\n      <td>qTof</td>\n      <td>LC-ESI</td>\n      <td>Positive</td>\n      <td>Quinn</td>\n      <td>...</td>\n      <td>Dorrestein</td>\n      <td>172</td>\n      <td>inputspectra/spec-00016.mzXML</td>\n      <td>33657.3</td>\n      <td>313.9400</td>\n      <td>0</td>\n      <td>303.310</td>\n      <td>184</td>\n      <td>spec/spec-00016.mzXML</td>\n      <td>f.MSV000078547/spectrum/DLab/121207_aby_D_DD_M...</td>\n    </tr>\n  </tbody>\n</table>\n<p>5 rows × 22 columns</p>\n</div>"
     },
     "metadata": {},
     "execution_count": 6
    }
   ],
   "source": [
    "df.head()"
   ]
  },
  {
   "cell_type": "code",
   "execution_count": 7,
   "metadata": {},
   "outputs": [],
   "source": [
    "df[\"MASSIVE\"] = df[\"Original_Path\"].apply(lambda x: x[2:14])\n",
    "df[\"usi\"] = df.apply(lambda x: \"mzspec:{}:{}:scan:{}\".format(x[\"MASSIVE\"], os.path.basename(x[\"Original_Path\"]), x[\"ScanNumber\"]) , axis=1)"
   ]
  },
  {
   "cell_type": "code",
   "execution_count": 8,
   "metadata": {},
   "outputs": [
    {
     "output_type": "execute_result",
     "data": {
      "text/plain": "'mzspec:MSV000078547:121207_aby_B_DD_MS2.mzXML:scan:102'"
     },
     "metadata": {},
     "execution_count": 8
    }
   ],
   "source": [
    "df[\"usi\"][0]"
   ]
  },
  {
   "cell_type": "code",
   "execution_count": 9,
   "metadata": {},
   "outputs": [],
   "source": [
    "# Writing Markdown File\n",
    "\n",
    "output_list = []\n",
    "output_list.append(\"Suspect | Image\")\n",
    "output_list.append(\"--- | ---\")\n",
    "for record in df.to_dict(orient=\"records\"):\n",
    "    output_list.append(\"{} | ![{}](https://metabolomics-usi.ucsd.edu/svg/?usi={}&mz_min=50&mz_max=500)\".format(record[\"Suspect Name\"], record[\"Suspect Name\"], record[\"usi\"]))"
   ]
  },
  {
   "cell_type": "code",
   "execution_count": 10,
   "metadata": {},
   "outputs": [
    {
     "output_type": "stream",
     "name": "stdout",
     "text": "Suspect | Image\n--- | ---\nSuspect related to C17-Sphinganine +CH2 | ![Suspect related to C17-Sphinganine +CH2](https://metabolomics-usi.ucsd.edu/svg/?usi=mzspec:MSV000078547:121207_aby_B_DD_MS2.mzXML:scan:102&mz_min=50&mz_max=500)\nSuspect related to C17-Sphinganine +CH2 | ![Suspect related to C17-Sphinganine +CH2](https://metabolomics-usi.ucsd.edu/svg/?usi=mzspec:MSV000078547:121207_aby_B_DD_MS2.mzXML:scan:109&mz_min=50&mz_max=500)\nSuspect related to C17-Sphinganine +CH2 | ![Suspect related to C17-Sphinganine +CH2](https://metabolomics-usi.ucsd.edu/svg/?usi=mzspec:MSV000078547:121207_aby_D_DD_MS2.mzXML:scan:55&mz_min=50&mz_max=500)\nSuspect related to C17-Sphinganine +CH2 | ![Suspect related to C17-Sphinganine +CH2](https://metabolomics-usi.ucsd.edu/svg/?usi=mzspec:MSV000078547:121207_aby_D_DD_MS2.mzXML:scan:60&mz_min=50&mz_max=500)\nSuspect related to C17-Sphinganine +CH2 | ![Suspect related to C17-Sphinganine +CH2](https://metabolomics-usi.ucsd.edu/svg/?usi=mzspec:MSV000078547:121207_aby_D_DD_MS2.mzXML:scan:184&mz_min=50&mz_max=500)\nSuspect related to C17-Sphinganine +CH2 | ![Suspect related to C17-Sphinganine +CH2](https://metabolomics-usi.ucsd.edu/svg/?usi=mzspec:MSV000078547:121207_aby_D_DD_MS2.mzXML:scan:198&mz_min=50&mz_max=500)\nSuspect related to C17-Sphinganine +CH2 | ![Suspect related to C17-Sphinganine +CH2](https://metabolomics-usi.ucsd.edu/svg/?usi=mzspec:MSV000078547:121207_proximicin_B_DD_MS2.mzXML:scan:34&mz_min=50&mz_max=500)\nSuspect related to C17-Sphinganine +CH2 | ![Suspect related to C17-Sphinganine +CH2](https://metabolomics-usi.ucsd.edu/svg/?usi=mzspec:MSV000078547:121207_proximicin_B_DD_MS2.mzXML:scan:38&mz_min=50&mz_max=500)\nSuspect related to C17-Sphinganine +CH2 | ![Suspect related to C17-Sphinganine +CH2](https://metabolomics-usi.ucsd.edu/svg/?usi=mzspec:MSV000078547:121207_proximicin_B_DD_MS2.mzXML:scan:112&mz_min=50&mz_max=500)\nSuspect related to C17-Sphinganine +CH2 | ![Suspect related to C17-Sphinganine +CH2](https://metabolomics-usi.ucsd.edu/svg/?usi=mzspec:MSV000078547:121207_proximicin_B_DD_MS2.mzXML:scan:170&mz_min=50&mz_max=500)\nSuspect related to C17-Sphinganine +CH2 | ![Suspect related to C17-Sphinganine +CH2](https://metabolomics-usi.ucsd.edu/svg/?usi=mzspec:MSV000078547:121207_aby_L_DD_MS2.mzXML:scan:119&mz_min=50&mz_max=500)\nSuspect related to C17-Sphinganine +CH2 | ![Suspect related to C17-Sphinganine +CH2](https://metabolomics-usi.ucsd.edu/svg/?usi=mzspec:MSV000078547:121207_aby_L_DD_MS2.mzXML:scan:138&mz_min=50&mz_max=500)\nSuspect related to C17-Sphinganine +CH2 | ![Suspect related to C17-Sphinganine +CH2](https://metabolomics-usi.ucsd.edu/svg/?usi=mzspec:MSV000078547:121207_aby_H_DD_MS2.mzXML:scan:183&mz_min=50&mz_max=500)\nSuspect related to C17-Sphinganine +CH2 | ![Suspect related to C17-Sphinganine +CH2](https://metabolomics-usi.ucsd.edu/svg/?usi=mzspec:MSV000078547:121207_aby_H_DD_MS2.mzXML:scan:187&mz_min=50&mz_max=500)\nSuspect related to C17-Sphinganine +CH2 | ![Suspect related to C17-Sphinganine +CH2](https://metabolomics-usi.ucsd.edu/svg/?usi=mzspec:MSV000078547:fi1026c_FT-it.mzXML:scan:270&mz_min=50&mz_max=500)\nSuspect related to C17-Sphinganine +CH2 | ![Suspect related to C17-Sphinganine +CH2](https://metabolomics-usi.ucsd.edu/svg/?usi=mzspec:MSV000078547:fi1026c_FT-it.mzXML:scan:339&mz_min=50&mz_max=500)\nSuspect related to Beauvericin +O | ![Suspect related to Beauvericin +O](https://metabolomics-usi.ucsd.edu/svg/?usi=mzspec:MSV000078547:121207_aby_J_DD_MS2.mzXML:scan:125&mz_min=50&mz_max=500)\nSuspect related to Beauvericin +O | ![Suspect related to Beauvericin +O](https://metabolomics-usi.ucsd.edu/svg/?usi=mzspec:MSV000078547:121207_aby_J_DD_MS2.mzXML:scan:139&mz_min=50&mz_max=500)\nSuspect related to Beauvericin +O | ![Suspect related to Beauvericin +O](https://metabolomics-usi.ucsd.edu/svg/?usi=mzspec:MSV000078547:121207_aby_J_DD_MS2.mzXML:scan:309&mz_min=50&mz_max=500)\nSuspect related to Tyr-Pro-Phe -O | ![Suspect related to Tyr-Pro-Phe -O](https://metabolomics-usi.ucsd.edu/svg/?usi=mzspec:MSV000078547:fi1026d_FT-it.mzXML:scan:128&mz_min=50&mz_max=500)\nSuspect related to Tyr-Pro-Phe -O | ![Suspect related to Tyr-Pro-Phe -O](https://metabolomics-usi.ucsd.edu/svg/?usi=mzspec:MSV000078547:fi1026d_FT-it.mzXML:scan:132&mz_min=50&mz_max=500)\n"
    }
   ],
   "source": [
    "print(\"\\n\".join(output_list))\n",
    "\n",
    "with open(\"test.md\", \"w\") as outfile:\n",
    "    outfile.write(\"\\n\".join(output_list))\n",
    "\n",
    "with open(\"test.html\", \"w\") as outfile:\n",
    "    outfile.write(markdown(\"\\n\".join(output_list), extensions=['tables']))"
   ]
  },
  {
   "cell_type": "code",
   "execution_count": null,
   "metadata": {},
   "outputs": [],
   "source": []
  }
 ],
 "metadata": {
  "kernelspec": {
   "display_name": "Python 3",
   "language": "python",
   "name": "python3"
  },
  "language_info": {
   "codemirror_mode": {
    "name": "ipython",
    "version": 3
   },
   "file_extension": ".py",
   "mimetype": "text/x-python",
   "name": "python",
   "nbconvert_exporter": "python",
   "pygments_lexer": "ipython3",
   "version": "3.7.6-final"
  }
 },
 "nbformat": 4,
 "nbformat_minor": 4
}