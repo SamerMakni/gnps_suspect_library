{
 "cells": [
  {
   "cell_type": "code",
   "execution_count": null,
   "id": "a6cb60ba",
   "metadata": {},
   "outputs": [],
   "source": [
    "import matplotlib.pyplot as plt\n",
    "import matplotlib.ticker as mticker\n",
    "import numpy as np\n",
    "import pandas as pd\n",
    "import requests\n",
    "import seaborn as sns\n",
    "import spectrum_utils.utils as suu\n",
    "import tqdm.notebook as tqdm\n",
    "from scipy.stats import spearmanr\n",
    "from statsmodels.stats.multitest import multipletests"
   ]
  },
  {
   "cell_type": "code",
   "execution_count": null,
   "id": "2cf905c3",
   "metadata": {},
   "outputs": [],
   "source": [
    "# Plot styling.\n",
    "plt.style.use(['seaborn-white', 'seaborn-paper'])\n",
    "plt.rc('font', family='serif')\n",
    "sns.set_palette(['#9e0059', '#6da7de', '#ee266d', '#dee000', '#eb861e'])\n",
    "sns.set_context('paper', font_scale=1.3)    # Single-column figure."
   ]
  },
  {
   "cell_type": "code",
   "execution_count": null,
   "id": "67cc271b",
   "metadata": {},
   "outputs": [],
   "source": [
    "suspects = pd.read_parquet('../../data/interim/suspects_unique.parquet')\n",
    "\n",
    "acylcarnitines = suspects[suspects['CompoundName'].str.lower()\n",
    "                          .str.contains('carnitine', regex=False)].copy()\n",
    "acylcarnitines['dataset'] = acylcarnitines['SuspectUsi'].str.split(':').str[1]\n",
    "acylcarnitines['filename'] = acylcarnitines['SuspectUsi'].str.split(':').str[2]"
   ]
  },
  {
   "cell_type": "code",
   "execution_count": null,
   "id": "42cd9bb7",
   "metadata": {},
   "outputs": [],
   "source": [
    "redu = (pd.read_csv('../../data/interim/redu_all_sampleinformation.tsv',\n",
    "                    sep='\\t', usecols=['filename', 'SampleType',\n",
    "                                       'SampleTypeSub1', 'NCBITaxonomy',\n",
    "                                       'UBERONBodyPartName'])\n",
    "        .rename(columns={'SampleType': 'sample_type',\n",
    "                         'SampleTypeSub1': 'sample_type_sub',\n",
    "                         'NCBITaxonomy': 'species',\n",
    "                         'UBERONBodyPartName': 'body_part'}))\n",
    "redu['filename'] = redu['filename'].str[2:]\n",
    "redu['dataset'] = redu['filename'].str.split('/').str[0]\n",
    "redu['filename'] = redu['filename'].str.split('/').str[-1]"
   ]
  },
  {
   "cell_type": "code",
   "execution_count": null,
   "id": "baf13c7e",
   "metadata": {},
   "outputs": [],
   "source": [
    "acylcarnitines_redu = (pd.merge(acylcarnitines, redu, on=['dataset', 'filename'])\n",
    "                       [['sample_type', 'sample_type_sub', 'species', 'body_part']]\n",
    "                       .value_counts().reset_index().rename(columns={0: 'count'}))\n",
    "acylcarnitines_redu[acylcarnitines_redu['count'] > 10]"
   ]
  },
  {
   "cell_type": "code",
   "execution_count": null,
   "id": "2abea84e",
   "metadata": {},
   "outputs": [],
   "source": [
    "task_id_std, task_id_sus = 'b55aef34', '50e3d8ae'\n",
    "filename = ('../../data/processed/MOLECULAR-LIBRARYSEARCH-V2-{}-'\n",
    "            'view_all_annotations_DB-main.tsv.xz')\n",
    "filename_ids_std = (\n",
    "    pd.read_csv(\n",
    "        filename.format(task_id_std),\n",
    "        usecols=['full_CCMS_path', 'Compound_Name', 'SpecMZ', 'RT_Query'],\n",
    "        sep='\\t')\n",
    "    .rename(columns={'full_CCMS_path': 'Filename',\n",
    "                     'Compound_Name': 'CompoundName',\n",
    "                     'SpecMZ': 'PrecursorMz',\n",
    "                     'RT_Query': 'RT'}))\n",
    "filename_ids_std['Dataset'] = (filename_ids_std['Filename']\n",
    "                               .str.split('/', 1).str[0])\n",
    "filename_ids_sus = (\n",
    "    pd.read_csv(\n",
    "        filename.format(task_id_sus),\n",
    "        usecols=['full_CCMS_path', 'Compound_Name', 'SpecMZ', 'RT_Query'],\n",
    "        sep='\\t')\n",
    "    .rename(columns={'full_CCMS_path': 'Filename',\n",
    "                     'Compound_Name': 'CompoundName',\n",
    "                     'SpecMZ': 'PrecursorMz',\n",
    "                     'RT_Query': 'RT'}))\n",
    "filename_ids_sus['Dataset'] = (filename_ids_sus['Filename']\n",
    "                               .str.split('/', 1).str[0])"
   ]
  },
  {
   "cell_type": "code",
   "execution_count": null,
   "id": "5f32e38b",
   "metadata": {},
   "outputs": [],
   "source": [
    "rosmap_ids_std = filename_ids_std[filename_ids_std['Dataset'] == 'MSV000086415']\n",
    "rosmap_ids_sus = filename_ids_sus[filename_ids_sus['Dataset'] == 'MSV000086415']"
   ]
  },
  {
   "cell_type": "code",
   "execution_count": null,
   "id": "c58df9b1",
   "metadata": {},
   "outputs": [],
   "source": [
    "print(\n",
    "    f'Number of standard annotations (total/unique): '\n",
    "    f'{len(rosmap_ids_std):,d} / {rosmap_ids_std[\"CompoundName\"].nunique():,d}'\n",
    ")\n",
    "print(\n",
    "    f'Number of suspect annotations (total/unique):  '\n",
    "    f'{len(rosmap_ids_sus):,d} / {rosmap_ids_sus[\"CompoundName\"].nunique():,d}'\n",
    ")"
   ]
  },
  {
   "cell_type": "code",
   "execution_count": null,
   "id": "a4faa4e2",
   "metadata": {},
   "outputs": [],
   "source": [
    "def clean_labels(labels):\n",
    "    labels = labels.str.strip()\n",
    "    # Clean spectral matches to NIST tags.\n",
    "    labels = (labels.str.replace('Spectral Match to ', '', regex=False)\n",
    "              .str.replace(' from NIST14', '', regex=False))\n",
    "    # Clean MASSBANK tags.\n",
    "    labels = labels.str.replace(r'Massbank:RP\\d{6} ([^ |]+)[^ ]*',\n",
    "                                lambda m: m.group(1), regex=True)\n",
    "    # Remove fragmentation info.\n",
    "    labels = labels.str.replace(r' - (\\d+\\.\\d+)? (eV|Ev)', '', regex=True)\n",
    "    # Clean suspect tags.\n",
    "    labels = labels.str.replace(\n",
    "        f'Suspect related to (.+) \\(predicted molecular formula: [^)]+\\) '\n",
    "        r'with delta m/z (-?\\d+\\.\\d+) \\(putative explanation: .+\\)',\n",
    "        lambda m: (f'{m.group(1)} {\"+\" if float(m.group(2)) > 0 else \"-\"} '\n",
    "                   f'{abs(float(m.group(2))):.3f} Da'), regex=True)\n",
    "    # Use consistent title case.\n",
    "    labels = labels.str.title().str.replace('Dl-', 'DL-')\n",
    "    # Use larger minus sign.\n",
    "    labels = labels.str.replace(' - ', ' – ')\n",
    "    \n",
    "    return labels"
   ]
  },
  {
   "cell_type": "code",
   "execution_count": null,
   "id": "8b135f2f",
   "metadata": {},
   "outputs": [],
   "source": [
    "rosmap_ids_std_ac = rosmap_ids_std[\n",
    "    np.logical_or.reduce(\n",
    "        [rosmap_ids_std['CompoundName'].str.contains(compound, regex=False)\n",
    "         for compound in acylcarnitines['CompoundName'].unique()])].copy()\n",
    "rosmap_ids_std_ac['CompoundName'] = clean_labels(\n",
    "    rosmap_ids_std_ac['CompoundName'].copy())\n",
    "rosmap_ids_std_ac_unique = (rosmap_ids_std_ac.groupby('CompoundName')\n",
    "                            [['PrecursorMz', 'RT']]\n",
    "                            .agg('median').reset_index())\n",
    "\n",
    "rosmap_ids_sus_ac = rosmap_ids_sus[\n",
    "    np.logical_or.reduce(\n",
    "        [rosmap_ids_sus['CompoundName'].str.contains(compound, regex=False)\n",
    "         for compound in acylcarnitines['CompoundName'].unique()])].copy()\n",
    "rosmap_ids_sus_ac['CompoundName'] = clean_labels(\n",
    "    rosmap_ids_sus_ac['CompoundName'].copy())\n",
    "rosmap_ids_sus_ac_unique = (rosmap_ids_sus_ac.groupby('CompoundName')\n",
    "                            [['PrecursorMz', 'RT']]\n",
    "                            .agg('median').reset_index())"
   ]
  },
  {
   "cell_type": "code",
   "execution_count": null,
   "id": "ac7ff2ab",
   "metadata": {},
   "outputs": [],
   "source": [
    "print(f'Number of standard acylcarnitine annotations (total/unique): '\n",
    "      f'{len(rosmap_ids_std_ac)} / {len(rosmap_ids_std_ac_unique)}')\n",
    "print(f'Number of suspect acylcarnitine annotations (total/unique): '\n",
    "      f'{len(rosmap_ids_sus_ac)} / {len(rosmap_ids_sus_ac_unique)}')"
   ]
  },
  {
   "cell_type": "code",
   "execution_count": null,
   "id": "35b9ca81",
   "metadata": {},
   "outputs": [],
   "source": [
    "# ROSMAP spectrum match increase.\n",
    "rosmap_spectrum_match = pd.DataFrame(\n",
    "    {'mode': ['default', 'default', 'suspect', 'suspect'],\n",
    "     'type': ['all', 'acylcarnitine', 'all', 'acylcarnitine'],\n",
    "     'num_annotations': [\n",
    "         (filename_ids_std['Dataset'] == 'MSV000086415').sum(),\n",
    "         len(rosmap_ids_std_ac_unique),\n",
    "         (filename_ids_sus['Dataset'] == 'MSV000086415').sum(),\n",
    "         len(rosmap_ids_sus_ac_unique)]})\n",
    "\n",
    "rosmap_spectrum_match.to_csv('fig3_rosmap_spectrum_match.csv')\n",
    "\n",
    "width = 7\n",
    "height = width / 1.618\n",
    "fig, axes = plt.subplots(1, 2, figsize=(width, height))\n",
    "\n",
    "sns.barplot(data=rosmap_spectrum_match[rosmap_spectrum_match['type'] == 'all'],\n",
    "            y='num_annotations', x='mode', ax=axes[0])\n",
    "sns.barplot(data=rosmap_spectrum_match[rosmap_spectrum_match['type'] == 'acylcarnitine'],\n",
    "            y='num_annotations', x='mode', ax=axes[1])\n",
    "\n",
    "for ax in axes:\n",
    "    ax.set_xticklabels(\n",
    "        ['Default libraries', 'Default libraries +\\nsuspect library'],\n",
    "        rotation=90\n",
    "    )\n",
    "    ax.set_xlabel('')\n",
    "    \n",
    "    sns.despine(ax=ax)\n",
    "\n",
    "axes[0].set_ylabel('Spectrum matches')\n",
    "axes[1].set_ylabel('Acylcarnitine annotations')\n",
    "\n",
    "axes[0].yaxis.set_major_formatter(mticker.StrMethodFormatter('{x:,.0f}'))\n",
    "    \n",
    "plt.tight_layout()\n",
    "\n",
    "plt.show()\n",
    "plt.close()"
   ]
  },
  {
   "cell_type": "code",
   "execution_count": null,
   "id": "91601124",
   "metadata": {},
   "outputs": [],
   "source": [
    "rosmap_metadata = pd.read_csv(\n",
    "    '../../data/external/metadata_ROSMAP/U19_ROSMAP_METADATA_FINALIZED_CSV.csv',\n",
    "    usecols=['filename', 'ATTRIBUTE_ceradsc']).rename(\n",
    "    columns={'filename': 'Filename', 'ATTRIBUTE_ceradsc': 'CeradScore'})\n",
    "rosmap_metadata['Filename'] = (rosmap_metadata['Filename'].str.split().str[0]\n",
    "                               .str.replace(r'mzXML$', 'mzML', regex=True)\n",
    "                               .str.zfill(13))\n",
    "mask = rosmap_metadata['CeradScore'] <= 2\n",
    "rosmap_metadata.loc[mask, 'Alzheimer'] = 'Yes (CERAD ≤ 2)'\n",
    "rosmap_metadata.loc[~mask, 'Alzheimer'] = 'No  (CERAD ≥ 3)'"
   ]
  },
  {
   "cell_type": "code",
   "execution_count": null,
   "id": "fb5ad8f2",
   "metadata": {},
   "outputs": [],
   "source": [
    "# Precursor m/z tolerance: 100 ppm\n",
    "# Retention time tolerance: 20 seconds\n",
    "mz_tol, rt_tol = 100, 20"
   ]
  },
  {
   "cell_type": "code",
   "execution_count": null,
   "id": "0cc26766",
   "metadata": {},
   "outputs": [],
   "source": [
    "# Merge annotations with near-identical precursor m/z and RT.\n",
    "rosmap_ids_sus_merged, prev_mz, prev_rt = [], -np.inf, -np.inf\n",
    "for _, row in rosmap_ids_sus.sort_values(\n",
    "        ['PrecursorMz', 'CompoundName', 'RT']).iterrows():\n",
    "    mz_diff_ppm = abs(suu.mass_diff(row['PrecursorMz'], prev_mz, False))\n",
    "    rt_diff = abs(row['RT'] - prev_rt)\n",
    "    if mz_diff_ppm < mz_tol and rt_diff < rt_tol:\n",
    "        rosmap_ids_sus_merged[-1][0].append(row[\"CompoundName\"])\n",
    "        rosmap_ids_sus_merged[-1][1].append(row['PrecursorMz'])\n",
    "        rosmap_ids_sus_merged[-1][2].append(row['RT'])\n",
    "    else:\n",
    "        rosmap_ids_sus_merged.append([[row['CompoundName']],\n",
    "                                      [row['PrecursorMz']],\n",
    "                                      [row['RT']]])\n",
    "    prev_mz, prev_rt = row['PrecursorMz'], row['RT']    \n",
    "rosmap_ids_sus_merged = pd.DataFrame(\n",
    "    rosmap_ids_sus_merged, columns=['CompoundName', 'PrecursorMz', 'RT'])\n",
    "\n",
    "def _key(label):\n",
    "    if ' – ' in label or ' + ' in label:\n",
    "        return label\n",
    "    else:\n",
    "        # List non-suspect compounds first.\n",
    "        return f'0{label}'\n",
    "\n",
    "rosmap_ids_sus_merged['CompoundName'] = (rosmap_ids_sus_merged['CompoundName']\n",
    "                                         .apply(lambda l: sorted(l, key=_key))\n",
    "                                         .str.join('\\n/ '))\n",
    "rosmap_ids_sus_merged['PrecursorMz'] = (rosmap_ids_sus_merged['PrecursorMz']\n",
    "                                        .apply(np.mean))\n",
    "rosmap_ids_sus_merged['RT'] = rosmap_ids_sus_merged['RT'].apply(np.mean)"
   ]
  },
  {
   "cell_type": "code",
   "execution_count": null,
   "id": "befae164",
   "metadata": {},
   "outputs": [],
   "source": [
    "index_col = rosmap_ids_sus_merged.columns.values.tolist()\n",
    "rosmap_xic_sus = pd.DataFrame(columns=[\n",
    "    *index_col, *sorted(rosmap_metadata['Filename'].unique())])\n",
    "rosmap_xic_sus[index_col] = rosmap_ids_sus_merged\n",
    "rosmap_xic_sus = rosmap_xic_sus.set_index(index_col).sort_index().astype(float)"
   ]
  },
  {
   "cell_type": "code",
   "execution_count": null,
   "id": "004b1fa6",
   "metadata": {},
   "outputs": [],
   "source": [
    "# Extract XICs for all features.\n",
    "for compound, precursor_mz, rt in tqdm.tqdm(rosmap_xic_sus.index):\n",
    "    tolerance_ppm_to_mz = mz_tol / 10**6 * precursor_mz \n",
    "    req = requests.get(f'http://gnps-xic.ucsd.edu/api/integrate/'\n",
    "                       f'MSV000086415?xictarget={precursor_mz}&'\n",
    "                       f'mztolerance={tolerance_ppm_to_mz}&'\n",
    "                       f'rtrange={(rt - rt_tol) / 60}-{(rt + rt_tol) / 60}')\n",
    "    for file_xic in req.json():\n",
    "        if file_xic['filename'] in rosmap_xic_sus.columns:\n",
    "            rosmap_xic_sus.loc[(compound, precursor_mz, rt),\n",
    "                               file_xic['filename']] = float(file_xic['integral'])\n",
    "rosmap_xic_sus = rosmap_xic_sus.dropna(axis=1)\n",
    "rosmap_xic_sus.to_csv('acylcarnitine_ad.csv')"
   ]
  },
  {
   "cell_type": "code",
   "execution_count": null,
   "id": "30070ba5",
   "metadata": {},
   "outputs": [],
   "source": [
    "rosmap_metadata.drop(columns='Alzheimer').merge(\n",
    "    rosmap_xic_sus.reset_index().drop(columns=['PrecursorMz', 'RT']).set_index('CompoundName').T,\n",
    "    left_on='Filename', right_index=True).to_csv('acylcarnitine_ad.csv', index=False)"
   ]
  },
  {
   "cell_type": "code",
   "execution_count": null,
   "id": "237c5ca7",
   "metadata": {},
   "outputs": [],
   "source": [
    "rosmap_xic_t = rosmap_xic_sus.T.droplevel([1, 2], 'columns')\n",
    "corr = []\n",
    "for compound in rosmap_xic_t:\n",
    "    xic = rosmap_metadata.merge(\n",
    "        rosmap_xic_t[compound].to_frame().rename(columns={compound: 'XIC'}),\n",
    "        left_on='Filename', right_index=True)\n",
    "    r, pvalue = spearmanr(xic['CeradScore'], xic['XIC'])\n",
    "    corr.append((compound, r, pvalue))\n",
    "corr = pd.DataFrame(corr, columns=['CompoundName', 'SpearmanR', 'pValue'])\n",
    "corr['pValueCorr'] = multipletests(corr['pValue'], 0.05, 'fdr_bh')[1]"
   ]
  },
  {
   "cell_type": "code",
   "execution_count": null,
   "id": "4d60d452",
   "metadata": {},
   "outputs": [],
   "source": [
    "rosmap_xic_plot = pd.merge(\n",
    "    rosmap_xic_sus.reset_index().melt(id_vars='CompoundName',\n",
    "                                      value_vars=rosmap_xic_sus.columns,\n",
    "                                      var_name='Filename', value_name='XIC'),\n",
    "    rosmap_metadata, on='Filename')\n",
    "rosmap_xic_plot = rosmap_xic_plot[rosmap_xic_plot['XIC'] > 0].dropna()\n",
    "sign_compounds = (pd.merge(corr, (rosmap_xic_sus.index.to_frame()\n",
    "                                     .reset_index(drop=True)),\n",
    "                           on='CompoundName')\n",
    "                  .sort_values(['pValueCorr'])\n",
    "                  .loc[corr['pValueCorr'] < 0.05, 'CompoundName'])\n",
    "rosmap_xic_sign = rosmap_xic_plot[rosmap_xic_plot['CompoundName']\n",
    "                                  .isin(sign_compounds)]"
   ]
  },
  {
   "cell_type": "code",
   "execution_count": null,
   "id": "56945d2d",
   "metadata": {},
   "outputs": [],
   "source": [
    "(pd.merge(corr, (rosmap_xic_sus.index.to_frame().reset_index(drop=True)),\n",
    "          on='CompoundName')\n",
    "          .sort_values(['pValueCorr', 'pValue'])\n",
    "          .loc[corr['pValueCorr'] < 0.05])"
   ]
  },
  {
   "cell_type": "code",
   "execution_count": null,
   "id": "bad5172b",
   "metadata": {},
   "outputs": [],
   "source": [
    "rosmap_xic_sign.to_csv('fig3_rosmap_xic_sign.csv', index=False)\n",
    "sign_compounds.to_csv('fig3_sign_compounds.csv', index=False)"
   ]
  },
  {
   "cell_type": "code",
   "execution_count": null,
   "id": "83bba1bd",
   "metadata": {},
   "outputs": [],
   "source": [
    "height = 7\n",
    "width = height / 1.618\n",
    "fig, ax = plt.subplots(figsize=(width, height * 0.75))\n",
    "\n",
    "hue_order = ['No  (CERAD ≥ 3)', 'Yes (CERAD ≤ 2)']\n",
    "sns.boxplot(data=rosmap_xic_sign, y='CompoundName', x='XIC', hue='Alzheimer',\n",
    "            order=sign_compounds, hue_order=hue_order, fliersize=0, ax=ax)\n",
    "sns.stripplot(data=rosmap_xic_sign, y='CompoundName', x='XIC', hue='Alzheimer',\n",
    "              order=sign_compounds, hue_order=hue_order, dodge=True,\n",
    "              edgecolor='black', linewidth=0.3, marker='.', ax=ax)\n",
    "\n",
    "ax.set_xscale('log')\n",
    "\n",
    "ax.set_xlabel('Abundance (XIC)')\n",
    "ax.set_ylabel(None)\n",
    "\n",
    "for label in ax.yaxis.get_ticklabels():\n",
    "    label.set_size('x-small')\n",
    "\n",
    "handles, lbls = ax.get_legend_handles_labels()\n",
    "lbls = [l.split()[0] for l in lbls]\n",
    "fig.legend(handles[:2], lbls[:2], loc='upper center', bbox_to_anchor=(0.5, 1),\n",
    "           ncol=2, bbox_transform=fig.transFigure, title='Alzheimer')\n",
    "ax.legend().set_visible(False)\n",
    "\n",
    "sns.despine(ax=ax)\n",
    "\n",
    "plt.savefig('acylcarnitine_ad.png', dpi=300, bbox_inches='tight',\n",
    "            facecolor='white')\n",
    "plt.show()\n",
    "plt.close()"
   ]
  }
 ],
 "metadata": {
  "kernelspec": {
   "display_name": "Python 3 (ipykernel)",
   "language": "python",
   "name": "python3"
  },
  "language_info": {
   "codemirror_mode": {
    "name": "ipython",
    "version": 3
   },
   "file_extension": ".py",
   "mimetype": "text/x-python",
   "name": "python",
   "nbconvert_exporter": "python",
   "pygments_lexer": "ipython3",
   "version": "3.8.6"
  }
 },
 "nbformat": 4,
 "nbformat_minor": 5
}
