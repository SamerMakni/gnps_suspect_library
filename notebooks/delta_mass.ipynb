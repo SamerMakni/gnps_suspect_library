{
 "cells": [
  {
   "cell_type": "code",
   "execution_count": null,
   "metadata": {},
   "outputs": [],
   "source": [
    "import itertools\n",
    "\n",
    "import joblib\n",
    "import matplotlib.pyplot as plt\n",
    "import matplotlib.ticker as mticker\n",
    "import numpy as np\n",
    "import pandas as pd\n",
    "import seaborn as sns\n",
    "from matplotlib.lines import Line2D\n",
    "from mpl_toolkits.axes_grid1.inset_locator import inset_axes"
   ]
  },
  {
   "cell_type": "code",
   "execution_count": null,
   "metadata": {},
   "outputs": [],
   "source": [
    "# Plot styling.\n",
    "plt.style.use(['seaborn-white', 'seaborn-paper'])\n",
    "plt.rc('font', family='sans-serif')\n",
    "sns.set_palette(['#9e0059', '#6da7de', '#ee266d', '#dee000', '#eb861e'])\n",
    "sns.set_context('paper', font_scale=1.3)    # Single-column figure."
   ]
  },
  {
   "cell_type": "markdown",
   "metadata": {},
   "source": [
    "## Suspects"
   ]
  },
  {
   "cell_type": "code",
   "execution_count": null,
   "metadata": {},
   "outputs": [],
   "source": [
    "suspects_unfiltered = pd.read_parquet(\n",
    "    '../../data/interim/suspects_unfiltered.parquet')\n",
    "suspects_grouped = pd.read_parquet(\n",
    "    '../../data/interim/suspects_grouped.parquet')\n",
    "suspects_unique = pd.read_parquet(\n",
    "    '../../data/interim/suspects_unique.parquet')"
   ]
  },
  {
   "cell_type": "code",
   "execution_count": null,
   "metadata": {},
   "outputs": [],
   "source": [
    "print(f'{len(suspects_grouped):,} suspects with non-zero mass differences '\n",
    "      f'collected ({len(suspects_unfiltered):,} total)')\n",
    "print(f'{len(suspects_unique):,} unique suspects after duplicate removal and '\n",
    "      'filtering')"
   ]
  },
  {
   "cell_type": "code",
   "execution_count": null,
   "metadata": {},
   "outputs": [],
   "source": [
    "suspects_grouped['Dataset'] = (suspects_grouped['SuspectUsi']\n",
    "                               .str.split(':').str[1])\n",
    "suspects_grouped['Filename'] = (suspects_grouped['SuspectUsi']\n",
    "                               .str.split(':').str[2])\n",
    "suspect_count = (\n",
    "    suspects_grouped.groupby(['CompoundName', 'Adduct', 'Rationale',\n",
    "                              'GroupDeltaMass'])['Dataset']\n",
    "    .count().sort_values(ascending=False).rename('Count').reset_index())"
   ]
  },
  {
   "cell_type": "code",
   "execution_count": null,
   "metadata": {
    "scrolled": true
   },
   "outputs": [],
   "source": [
    "suspect_count.head(10).round(3)"
   ]
  },
  {
   "cell_type": "code",
   "execution_count": null,
   "metadata": {},
   "outputs": [],
   "source": [
    "suspect_dataset_count = (\n",
    "    suspects_grouped.groupby(['CompoundName', 'Adduct', 'Rationale',\n",
    "                              'GroupDeltaMass'])[['Dataset', 'Filename']]\n",
    "    .nunique().sort_values(['CompoundName', 'GroupDeltaMass'], ascending=False)\n",
    "    .reset_index())\n",
    "suspect_dataset_count.to_csv('supp_table_1_suspect_dataset_count.csv')"
   ]
  },
  {
   "cell_type": "code",
   "execution_count": null,
   "metadata": {},
   "outputs": [],
   "source": [
    "suspect_dataset_count.sort_values('Dataset', ascending=False).head(10).round(3)"
   ]
  },
  {
   "cell_type": "code",
   "execution_count": null,
   "metadata": {},
   "outputs": [],
   "source": [
    "suspect_dataset_count.sort_values('Filename', ascending=False).head(10).round(3)"
   ]
  },
  {
   "cell_type": "code",
   "execution_count": null,
   "metadata": {},
   "outputs": [],
   "source": [
    "width = 7\n",
    "height = width / 1.618\n",
    "fig, (ax1, ax2) = plt.subplots(1, 2, sharey=True, figsize=(width, height))\n",
    "\n",
    "dataset_count = suspect_dataset_count['Dataset'].value_counts().sort_index()\n",
    "ax1.plot(dataset_count.index, dataset_count.values, '.', c='#9e0059')\n",
    "filename_count = suspect_dataset_count['Filename'].value_counts().sort_index()\n",
    "ax2.plot(filename_count.index, filename_count.values, '.', c='#6da7de')\n",
    "\n",
    "ax1.set_yscale('log')\n",
    "ax2.set_yscale('log')\n",
    "\n",
    "ax1.set_xlabel('Number of datasets observed')\n",
    "ax2.set_xlabel('Number of files observed')\n",
    "ax1.set_ylabel('Number of suspects')\n",
    "\n",
    "sns.despine(ax=ax1)\n",
    "sns.despine(ax=ax2)\n",
    "\n",
    "plt.tight_layout()\n",
    "\n",
    "plt.savefig('suspect_count.png', dpi=300, bbox_inches='tight')\n",
    "plt.show()\n",
    "plt.close()"
   ]
  },
  {
   "cell_type": "markdown",
   "metadata": {},
   "source": [
    "## Mass shifts"
   ]
  },
  {
   "cell_type": "code",
   "execution_count": null,
   "metadata": {},
   "outputs": [],
   "source": [
    "delta_mzs = (suspects_grouped[['GroupDeltaMass', 'Rationale', 'AtomicDifference']]\n",
    "             .value_counts().reset_index().rename(columns={0: 'Count'})\n",
    "             .sort_values('Count', ascending=False))\n",
    "\n",
    "suspects_interval = suspects_grouped.loc[suspects_grouped.index[\n",
    "    suspects_grouped['DeltaMass'].between(-80.5, -79.5)]]\n",
    "\n",
    "_ = joblib.dump((delta_mzs, suspects_interval), 'fig1_delta_mzs.parquet')\n",
    "delta_mzs.sort_values('GroupDeltaMass').to_csv('supp_table_2_delta_mz.csv',\n",
    "                                               index=False)"
   ]
  },
  {
   "cell_type": "code",
   "execution_count": null,
   "metadata": {},
   "outputs": [],
   "source": [
    "print(f\"{len(delta_mzs):,} unique (non-zero) delta m/z's\")"
   ]
  },
  {
   "cell_type": "code",
   "execution_count": null,
   "metadata": {},
   "outputs": [],
   "source": [
    "group_sizes_known, group_sizes_unknown = [], []\n",
    "groups = suspects_grouped.copy()\n",
    "groups['GroupDeltaMass'] = groups['GroupDeltaMass'].fillna(groups['DeltaMass'])\n",
    "groups['Rationale'] = groups['Rationale'].fillna('unspecified')\n",
    "groups['AtomicDifference'] = groups['AtomicDifference'].fillna('unspecified')\n",
    "groups = groups[['GroupDeltaMass', 'Rationale', 'AtomicDifference']].value_counts()\n",
    "counts, labels = [], []\n",
    "for (_, rationale, atomic_difference), count in groups.iteritems():\n",
    "    if rationale == 'unspecified' and atomic_difference == 'unspecified':\n",
    "        counts.extend(itertools.repeat(count, count))\n",
    "        labels.extend(itertools.repeat('unknown', count))\n",
    "    else:\n",
    "        counts.extend(itertools.repeat(count, count))\n",
    "        labels.extend(itertools.repeat('interpreted', count))\n",
    "groups = pd.DataFrame({'count': counts, 'label': labels})"
   ]
  },
  {
   "cell_type": "code",
   "execution_count": null,
   "metadata": {},
   "outputs": [],
   "source": [
    "width = 7\n",
    "height = width / 1.618\n",
    "fig, ax = plt.subplots(figsize=(width, height))\n",
    "\n",
    "sns.histplot(data=groups, x='count', hue='label', stat='count',\n",
    "             log_scale=True)\n",
    "\n",
    "ax.set_xlabel('Mass offset group size')\n",
    "ax.set_ylabel('Number of suspects')\n",
    "\n",
    "legend = ax.get_legend()\n",
    "handles = legend.legendHandles\n",
    "legend.remove()\n",
    "ax.legend(handles, ['Matched', 'Unknown'], title='Mass offset interpretation')\n",
    "\n",
    "ax.yaxis.set_major_formatter(mticker.StrMethodFormatter('{x:,.0f}'))\n",
    "\n",
    "sns.despine(ax=ax)\n",
    "\n",
    "plt.savefig('delta_mass_group_size.png', dpi=300, bbox_inches='tight')\n",
    "plt.show()\n",
    "plt.close()"
   ]
  },
  {
   "cell_type": "code",
   "execution_count": null,
   "metadata": {},
   "outputs": [],
   "source": [
    "delta_mzs.head(20).round(3)"
   ]
  },
  {
   "cell_type": "code",
   "execution_count": null,
   "metadata": {},
   "outputs": [],
   "source": [
    "width = 7\n",
    "height = width / 1.618\n",
    "fig, ax = plt.subplots(figsize=(width, height))\n",
    "\n",
    "ax.bar(delta_mzs[delta_mzs['Count'] >= 100]['GroupDeltaMass'],\n",
    "       delta_mzs[delta_mzs['Count'] >= 100]['Count'],\n",
    "       width=0.4, color='black')\n",
    "ax.bar([-2.016, 2.016], [30124, 21984], width=1., color='#6da7de',\n",
    "       label='2H')\n",
    "ax.bar([-14.016, 14.016], [15396, 17202], width=1., color='#9e0059',\n",
    "       label='1C,2H')\n",
    "ax.bar([-15.995, 15.995], [8318, 12948], width=1., color='#dee000',\n",
    "       label='1O')\n",
    "ax.bar([-18.011, 18.010], [12257, 13653], width=1., color='#eb861e',\n",
    "       label='2H,1O')\n",
    "ax.bar([-28.031, 28.031], [22503, 23295], width=1., color='#943fa6',\n",
    "       label='2C,4H')\n",
    "\n",
    "ax.bar([-80], [625], width=1., color='#ee266d')\n",
    "\n",
    "ax.set_xlim(-200, 300)\n",
    "\n",
    "ax.yaxis.set_major_formatter(mticker.StrMethodFormatter('{x:,.0f}'))\n",
    "\n",
    "ax.set_xlabel('Delta $m$/$z$', math_fontfamily='dejavuserif')\n",
    "ax.set_ylabel(f'Number of suspects')\n",
    "\n",
    "ax.legend(loc='upper left', handlelength=1, handleheight=0.01)\n",
    "\n",
    "sns.despine(ax=ax)\n",
    "\n",
    "# Inset plot.\n",
    "axins = inset_axes(ax, width=2, height=1.5)\n",
    "\n",
    "suspects_interval = suspects_grouped.loc[suspects_grouped.index[\n",
    "    suspects_grouped['DeltaMass'].between(-80.5, -79.5)]]\n",
    "bin_width = 0.002\n",
    "bins = (np.linspace(-80.2, -79.8, int(0.4 / bin_width) + 1) + bin_width / 2)\n",
    "\n",
    "hue = np.full_like(suspects_interval['GroupDeltaMass'], 'none', object)\n",
    "hue[suspects_interval['GroupDeltaMass'] == -79.967] = 'phosphorylation'\n",
    "hue[suspects_interval['GroupDeltaMass'] == -79.957] = 'sulfation'\n",
    "palette = {'phosphorylation': '#63c5b5', 'sulfation': '#ff38ba',\n",
    "           'none': 'lightgray'}\n",
    "\n",
    "sns.histplot(suspects_interval, x='DeltaMass', hue=hue, bins=bins,\n",
    "             multiple='stack', palette=palette, legend=False, ax=axins,\n",
    "             linewidth=0, alpha=1)\n",
    "\n",
    "axins.set_xlabel('Delta $m$/$z$', fontsize='x-small',\n",
    "                 math_fontfamily='dejavuserif')\n",
    "axins.set_ylabel('Number of suspects', fontsize='x-small')\n",
    "axins.tick_params(axis='both', which='major', labelsize='x-small')\n",
    "\n",
    "handles = [Line2D([0], [0], color='#63c5b5', lw=2, solid_capstyle='butt'),\n",
    "           Line2D([0], [0], color='#ff38ba', lw=2, solid_capstyle='butt'),]\n",
    "axins.legend(handles, ['Phospho', 'Sulfo'], loc='upper right',\n",
    "             bbox_to_anchor=(1.06, 1), fontsize='xx-small', handlelength=1.2)\n",
    "\n",
    "sns.despine(ax=axins)\n",
    "\n",
    "ax.add_patch(plt.Rectangle((.52, .38), .49, .61, ls='-', lw=1, ec='#ee266d',\n",
    "                           fc='None', transform=ax.transAxes, clip_on=False,\n",
    "                           zorder=10))\n",
    "\n",
    "plt.savefig('delta_mass.png', dpi=300, bbox_inches='tight')\n",
    "plt.show()\n",
    "plt.close()"
   ]
  },
  {
   "cell_type": "code",
   "execution_count": null,
   "metadata": {},
   "outputs": [],
   "source": [
    "width = 7\n",
    "height = width / 1.618\n",
    "\n",
    "for mz in range(-100, 100):\n",
    "    # Get the suspects within the current interval.\n",
    "    suspects_interval = suspects_grouped.loc[suspects_grouped.index[\n",
    "        suspects_grouped['DeltaMass'].between(mz - 0.5, mz + 0.5)]]\n",
    "    if len(suspects_interval) == 0:\n",
    "        continue\n",
    "    bin_width = 0.002\n",
    "    bins = (np.linspace(mz - 0.5, mz + 0.5, int(1 / bin_width) + 1)\n",
    "            + bin_width / 2)\n",
    "    \n",
    "    fig, ax = plt.subplots(figsize=(width, height))\n",
    "    \n",
    "    # Color the groups by frequency.\n",
    "    hue = suspects_interval['GroupDeltaMass'].fillna('ungrouped')\n",
    "    palette = {mz: color for mz, color in zip(\n",
    "        hue[hue != 'ungrouped'].value_counts().index,\n",
    "        sns.color_palette(n_colors=hue.nunique()))}\n",
    "    palette['ungrouped'] = 'lightgray'\n",
    "    \n",
    "    sns.histplot(suspects_interval, x='DeltaMass', hue=hue, bins=bins,\n",
    "                 multiple='stack', palette=palette, legend=False, ax=ax,\n",
    "                 linewidth=0, alpha=1)\n",
    "    \n",
    "    ax.yaxis.set_major_formatter(mticker.StrMethodFormatter('{x:,.0f}'))\n",
    "\n",
    "    ax.set_xlabel('Delta $m$/$z$')\n",
    "    ax.set_ylabel('Number of suspects')\n",
    "\n",
    "    sns.despine(ax=ax)\n",
    "\n",
    "    plt.savefig(f'density_{mz}.png', dpi=300, bbox_inches='tight')\n",
    "    # plt.show()\n",
    "    plt.close()"
   ]
  }
 ],
 "metadata": {
  "file_extension": ".py",
  "kernelspec": {
   "display_name": "Python 3 (ipykernel)",
   "language": "python",
   "name": "python3"
  },
  "language_info": {
   "codemirror_mode": {
    "name": "ipython",
    "version": 3
   },
   "file_extension": ".py",
   "mimetype": "text/x-python",
   "name": "python",
   "nbconvert_exporter": "python",
   "pygments_lexer": "ipython3",
   "version": "3.8.6"
  },
  "mimetype": "text/x-python",
  "name": "python",
  "npconvert_exporter": "python",
  "pygments_lexer": "ipython3",
  "version": 3
 },
 "nbformat": 4,
 "nbformat_minor": 2
}
