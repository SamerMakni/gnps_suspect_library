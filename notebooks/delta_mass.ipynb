{
 "cells": [
  {
   "cell_type": "code",
   "execution_count": null,
   "metadata": {},
   "outputs": [],
   "source": [
    "import matplotlib.pyplot as plt\n",
    "import matplotlib.ticker as mticker\n",
    "import numpy as np\n",
    "import pandas as pd\n",
    "import seaborn as sns"
   ]
  },
  {
   "cell_type": "code",
   "execution_count": null,
   "metadata": {},
   "outputs": [],
   "source": [
    "# Plot styling.\n",
    "plt.style.use(['seaborn-white', 'seaborn-paper'])\n",
    "plt.rc('font', family='serif')\n",
    "sns.set_palette('Set1')\n",
    "sns.set_context('paper', font_scale=1.3)"
   ]
  },
  {
   "cell_type": "markdown",
   "metadata": {},
   "source": [
    "## Suspects"
   ]
  },
  {
   "cell_type": "code",
   "execution_count": null,
   "metadata": {},
   "outputs": [],
   "source": [
    "suspects_unfiltered = pd.read_parquet(\n",
    "    '../../data/interim/suspects_unfiltered.parquet')\n",
    "suspects_grouped = pd.read_parquet(\n",
    "    '../../data/interim/suspects_grouped.parquet')\n",
    "suspects_unique = pd.read_parquet(\n",
    "    '../../data/interim/suspects_unique.parquet')"
   ]
  },
  {
   "cell_type": "code",
   "execution_count": null,
   "metadata": {},
   "outputs": [],
   "source": [
    "print(f'{len(suspects_grouped):,} suspects with non-zero mass differences '\n",
    "      f'collected ({len(suspects_unfiltered):,} total)')\n",
    "print(f'{len(suspects_unique):,} unique suspects after duplicate removal and '\n",
    "      'filtering')"
   ]
  },
  {
   "cell_type": "code",
   "execution_count": null,
   "metadata": {},
   "outputs": [],
   "source": [
    "suspects_grouped['Dataset'] = (suspects_grouped['SuspectUsi']\n",
    "                               .str.split(':').str[1])\n",
    "suspect_count = (\n",
    "    suspects_grouped.groupby(['CompoundName', 'Adduct', 'Rationale',\n",
    "                              'GroupDeltaMass'])['Dataset']\n",
    "    .count().sort_values(ascending=False).rename('Count').reset_index())"
   ]
  },
  {
   "cell_type": "code",
   "execution_count": null,
   "metadata": {
    "scrolled": true
   },
   "outputs": [],
   "source": [
    "suspect_count.head(10).round(3)"
   ]
  },
  {
   "cell_type": "code",
   "execution_count": null,
   "metadata": {},
   "outputs": [],
   "source": [
    "suspect_dataset_count = (\n",
    "    suspects_grouped.groupby(['CompoundName', 'Adduct', 'Rationale',\n",
    "                              'GroupDeltaMass'])['Dataset']\n",
    "    .nunique().sort_values(ascending=False)\n",
    "    .rename('Unique datasets observed').reset_index())"
   ]
  },
  {
   "cell_type": "code",
   "execution_count": null,
   "metadata": {},
   "outputs": [],
   "source": [
    "suspect_dataset_count.head(10).round(3)"
   ]
  },
  {
   "cell_type": "code",
   "execution_count": null,
   "metadata": {},
   "outputs": [],
   "source": [
    "width = 7\n",
    "height = width / 1.618\n",
    "fig, ax = plt.subplots(figsize=(width, height))\n",
    "\n",
    "dataset_count = (suspect_dataset_count['Unique datasets observed']\n",
    "                 .value_counts().sort_index())\n",
    "ax.plot(dataset_count.index, dataset_count.values, '.')\n",
    "\n",
    "ax.set_yscale('log')\n",
    "\n",
    "ax.set_xlabel('Number of datasets observed')\n",
    "ax.set_ylabel('Number of suspects')\n",
    "\n",
    "sns.despine(ax=ax)\n",
    "\n",
    "plt.savefig('suspect_dataset_count.png', dpi=300, bbox_inches='tight')\n",
    "plt.show()\n",
    "plt.close()"
   ]
  },
  {
   "cell_type": "markdown",
   "metadata": {},
   "source": [
    "## Mass shifts"
   ]
  },
  {
   "cell_type": "code",
   "execution_count": null,
   "metadata": {},
   "outputs": [],
   "source": [
    "delta_mzs = (suspects_grouped[['GroupDeltaMass', 'Rationale', 'AtomicDifference']]\n",
    "             .value_counts().reset_index().rename(columns={0: 'Count'})\n",
    "             .sort_values('Count', ascending=False))"
   ]
  },
  {
   "cell_type": "code",
   "execution_count": null,
   "metadata": {},
   "outputs": [],
   "source": [
    "print(f\"{len(delta_mzs):,} unique (non-zero) delta m/z's\")"
   ]
  },
  {
   "cell_type": "code",
   "execution_count": null,
   "metadata": {},
   "outputs": [],
   "source": [
    "delta_mzs.head(20).round(3)"
   ]
  },
  {
   "cell_type": "code",
   "execution_count": null,
   "metadata": {},
   "outputs": [],
   "source": [
    "width = 7\n",
    "height = width / 1.618\n",
    "fig, ax = plt.subplots(figsize=(width * 1.5, height / 1.5))\n",
    "\n",
    "ax.bar(delta_mzs[delta_mzs['Count'] >= 100]['GroupDeltaMass'],\n",
    "       delta_mzs[delta_mzs['Count'] >= 100]['Count'],\n",
    "       width=0.4, color='black')\n",
    "\n",
    "ax.set_xlim(-300, 300)\n",
    "\n",
    "ax.yaxis.set_major_formatter(mticker.StrMethodFormatter('{x:,.0f}'))\n",
    "\n",
    "ax.set_xlabel('Delta $m$/$z$')\n",
    "ax.set_ylabel(f'Number of suspects')\n",
    "\n",
    "sns.despine(ax=ax)\n",
    "\n",
    "plt.savefig('delta_mass.png', dpi=300, bbox_inches='tight')\n",
    "plt.show()\n",
    "plt.close()"
   ]
  },
  {
   "cell_type": "code",
   "execution_count": null,
   "metadata": {},
   "outputs": [],
   "source": [
    "width = 7\n",
    "height = width / 1.618\n",
    "\n",
    "for mz in range(-100, 100):\n",
    "    # Get the suspects within the current interval.\n",
    "    suspects_interval = suspects_grouped.loc[suspects_grouped.index[\n",
    "        suspects_grouped['DeltaMass'].between(mz - 0.5, mz + 0.5)]]\n",
    "    if len(suspects_interval) == 0:\n",
    "        continue\n",
    "    bin_width = 0.002\n",
    "    bins = (np.linspace(mz - 0.5, mz + 0.5, int(1 / bin_width) + 1)\n",
    "            + bin_width / 2)\n",
    "    \n",
    "    fig, ax = plt.subplots(figsize=(width, height))\n",
    "    \n",
    "    # Color the groups by frequency.\n",
    "    hue = suspects_interval['GroupDeltaMass'].fillna('ungrouped')\n",
    "    palette = {mz: color for mz, color in zip(\n",
    "        hue[hue != 'ungrouped'].value_counts().index,\n",
    "        sns.color_palette(n_colors=hue.nunique()))}\n",
    "    palette['ungrouped'] = 'lightgray'\n",
    "    \n",
    "    sns.histplot(suspects_interval, x='DeltaMass', hue=hue, bins=bins,\n",
    "                 multiple='stack', palette=palette, legend=False, ax=ax,\n",
    "                 linewidth=0, alpha=1)\n",
    "    \n",
    "    ax.yaxis.set_major_formatter(mticker.StrMethodFormatter('{x:,.0f}'))\n",
    "\n",
    "    ax.set_xlabel('Delta $m$/$z$')\n",
    "    ax.set_ylabel('Number of suspects')\n",
    "\n",
    "    sns.despine(ax=ax)\n",
    "\n",
    "    plt.savefig(f'density_{mz}.png', dpi=300, bbox_inches='tight')\n",
    "    # plt.show()\n",
    "    plt.close()"
   ]
  }
 ],
 "metadata": {
  "file_extension": ".py",
  "kernelspec": {
   "display_name": "Python 3",
   "language": "python",
   "name": "python3"
  },
  "language_info": {
   "codemirror_mode": {
    "name": "ipython",
    "version": 3
   },
   "file_extension": ".py",
   "mimetype": "text/x-python",
   "name": "python",
   "nbconvert_exporter": "python",
   "pygments_lexer": "ipython3",
   "version": "3.8.6"
  },
  "mimetype": "text/x-python",
  "name": "python",
  "npconvert_exporter": "python",
  "pygments_lexer": "ipython3",
  "version": 3
 },
 "nbformat": 4,
 "nbformat_minor": 2
}
