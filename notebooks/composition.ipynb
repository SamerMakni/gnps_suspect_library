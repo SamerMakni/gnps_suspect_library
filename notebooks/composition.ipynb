{
 "cells": [
  {
   "cell_type": "code",
   "execution_count": null,
   "metadata": {},
   "outputs": [],
   "source": [
    "import matplotlib.pyplot as plt\n",
    "import matplotlib.ticker as mticker\n",
    "import pandas as pd\n",
    "import seaborn as sns"
   ]
  },
  {
   "cell_type": "code",
   "execution_count": null,
   "metadata": {},
   "outputs": [],
   "source": [
    "# Plot styling.\n",
    "plt.style.use(['seaborn-white', 'seaborn-paper'])\n",
    "plt.rc('font', family='serif')\n",
    "sns.set_palette(['#9e0059', '#6da7de', '#ee266d', '#dee000', '#eb861e'])\n",
    "sns.set_context('paper', font_scale=1.3)    # Single-column figure."
   ]
  },
  {
   "cell_type": "code",
   "execution_count": null,
   "metadata": {},
   "outputs": [],
   "source": [
    "suspects = pd.read_csv(\n",
    "    '../../data/processed/suspect_list_batch_creation.tsv', sep='\\t'\n",
    ")\n",
    "suspect_formulas = suspects['COMPOUND_NAME'].str.extract(r'formula: ([^)]+)',\n",
    "                                                         expand=False)"
   ]
  },
  {
   "cell_type": "code",
   "execution_count": null,
   "metadata": {},
   "outputs": [],
   "source": [
    "suspect_formula_not_found = (suspect_formulas == 'unknown').sum()\n",
    "suspects_formula_found = len(suspect_formulas) - suspect_formula_not_found\n",
    "print(f'Suspects with molecular formula found: {suspects_formula_found:,}')\n",
    "print(f'Suspects with molecular formula NOT found: {suspect_formula_not_found:,}')"
   ]
  },
  {
   "cell_type": "code",
   "execution_count": null,
   "metadata": {},
   "outputs": [],
   "source": [
    "suspect_contains_ch = suspect_formulas.str.match(r'^[CH0-9]+$').sum()\n",
    "suspect_contains_cho = suspect_formulas.str.match(r'^(C[0-9]*)+(H[0-9]*)+(O[0-9]*)+$').sum()\n",
    "suspect_contains_chno = suspect_formulas.str.match(r'^(C[0-9]*)+(H[0-9]*)+(N[0-9]*)+(O[0-9]*)+$').sum()\n",
    "suspect_contains_p = suspect_formulas.str.contains('P').sum()\n",
    "suspect_contains_s = suspect_formulas.str.contains('S').sum()"
   ]
  },
  {
   "cell_type": "code",
   "execution_count": null,
   "metadata": {},
   "outputs": [],
   "source": [
    "library_entries = pd.read_csv(\n",
    "    '../../data/interim/composition_filtered_library.csv', low_memory=False)\n",
    "default_libraries = [\n",
    "    'BILELIB19', 'CASMI', 'DEREPLICATOR_IDENTIFIED_LIBRARY',\n",
    "    'GNPS-COLLECTIONS-MISC', 'GNPS-COLLECTIONS-PESTICIDES-NEGATIVE',\n",
    "    'GNPS-COLLECTIONS-PESTICIDES-POSITIVE', 'GNPS-EMBL-MCF',\n",
    "    'GNPS-FAULKNERLEGACY', 'GNPS-LIBRARY', 'GNPS-NIH-CLINICALCOLLECTION1',\n",
    "    'GNPS-NIH-CLINICALCOLLECTION2', 'GNPS-NIH-NATURALPRODUCTSLIBRARY',\n",
    "    'GNPS-NIH-NATURALPRODUCTSLIBRARY_ROUND2_NEGATIVE',\n",
    "    'GNPS-NIH-NATURALPRODUCTSLIBRARY_ROUND2_POSITIVE',\n",
    "    'GNPS-NIH-SMALLMOLECULEPHARMACOLOGICALLYACTIVE', 'GNPS-NIST14-MATCHES',\n",
    "    'GNPS-PRESTWICKPHYTOCHEM', 'GNPS-SELLECKCHEM-FDA-PART1',\n",
    "    'GNPS-SELLECKCHEM-FDA-PART2', 'HMDB', 'LDB_NEGATIVE', 'LDB_POSITIVE',\n",
    "    'MASSBANK', 'MASSBANKEU', 'MIADB', 'MMV_NEGATIVE', 'MMV_POSITIVE', 'MONA',\n",
    "    'PNNL-LIPIDS-NEGATIVE', 'PNNL-LIPIDS-POSITIVE', 'RESPECT', 'SUMNER'\n",
    "]\n",
    "library_entries = library_entries[library_entries['library_membership']\n",
    "                                  .str.upper().isin(default_libraries)]\n",
    "library_formulas = library_entries['Formula_smiles'].dropna()\n",
    "n_library_chnops = library_formulas.str.match(f'^[CHNOPS0-9]+$').sum()"
   ]
  },
  {
   "cell_type": "code",
   "execution_count": null,
   "metadata": {},
   "outputs": [],
   "source": [
    "n_library_chnops = library_formulas.str.match(f'^[CHNOPS0-9]+$').sum()"
   ]
  },
  {
   "cell_type": "code",
   "execution_count": null,
   "metadata": {},
   "outputs": [],
   "source": [
    "library_contains_ch = library_formulas.str.match(r'^[CH0-9]+$').sum()\n",
    "library_contains_cho = library_formulas.str.match(r'^(C[0-9]*)+(H[0-9]*)+(O[0-9]*)+$').sum()\n",
    "library_contains_chno = library_formulas.str.match(r'^(C[0-9]*)+(H[0-9]*)+(N[0-9]*)+(O[0-9]*)+$').sum()\n",
    "library_contains_p = library_formulas.str.contains('P').sum()\n",
    "library_contains_s = library_formulas.str.contains('S').sum()"
   ]
  },
  {
   "cell_type": "code",
   "execution_count": null,
   "metadata": {},
   "outputs": [],
   "source": [
    "formula_counts = pd.DataFrame(\n",
    "    {'count': [suspect_contains_ch / suspects_formula_found,\n",
    "               suspect_contains_cho / suspects_formula_found,\n",
    "               suspect_contains_chno / suspects_formula_found,\n",
    "               suspect_contains_p / suspects_formula_found,\n",
    "               suspect_contains_s / suspects_formula_found,\n",
    "               library_contains_ch / n_library_chnops,\n",
    "               library_contains_cho / n_library_chnops,\n",
    "               library_contains_chno / n_library_chnops,\n",
    "               library_contains_p / n_library_chnops,\n",
    "               library_contains_s / n_library_chnops,],\n",
    "     'type': ['Suspect library', 'Suspect library', 'Suspect library',\n",
    "              'Suspect library', 'Suspect library',\n",
    "              'Default GNPS libraries', 'Default GNPS libraries',\n",
    "              'Default GNPS libraries', 'Default GNPS libraries',\n",
    "              'Default GNPS libraries'],\n",
    "     'formula': ['CH', 'CHO', 'CHNO', 'P', 'S',\n",
    "                 'CH', 'CHO', 'CHNO', 'P', 'S']\n",
    "    }\n",
    ")\n",
    "formula_counts.to_parquet('fig1_composition.parquet', index=False)"
   ]
  },
  {
   "cell_type": "code",
   "execution_count": null,
   "metadata": {},
   "outputs": [],
   "source": [
    "width = 7\n",
    "height = width / 1.618\n",
    "fig, ax = plt.subplots(figsize=(width, height))\n",
    "\n",
    "formula_counts_perc = formula_counts.copy()\n",
    "formula_counts_perc['count'] *= 100\n",
    "sns.barplot(data=formula_counts_perc, x='formula', y='count', hue='type',\n",
    "            ax=ax)\n",
    "\n",
    "ax.yaxis.set_major_formatter(mticker.PercentFormatter(100))\n",
    "\n",
    "ax.set_xlabel('')\n",
    "ax.set_ylabel('Proportion of library')\n",
    "\n",
    "ax.legend(title=False, loc='upper right')\n",
    "\n",
    "sns.despine(ax=ax)\n",
    "\n",
    "plt.savefig('composition.png', dpi=300, bbox_inches='tight')\n",
    "plt.show()\n",
    "plt.close()"
   ]
  }
 ],
 "metadata": {
  "file_extension": ".py",
  "kernelspec": {
   "display_name": "Python 3 (ipykernel)",
   "language": "python",
   "name": "python3"
  },
  "language_info": {
   "codemirror_mode": {
    "name": "ipython",
    "version": 3
   },
   "file_extension": ".py",
   "mimetype": "text/x-python",
   "name": "python",
   "nbconvert_exporter": "python",
   "pygments_lexer": "ipython3",
   "version": "3.8.6"
  },
  "mimetype": "text/x-python",
  "name": "python",
  "npconvert_exporter": "python",
  "pygments_lexer": "ipython3",
  "version": 3
 },
 "nbformat": 4,
 "nbformat_minor": 2
}
